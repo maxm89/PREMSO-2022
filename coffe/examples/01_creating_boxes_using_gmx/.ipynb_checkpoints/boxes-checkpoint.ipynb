{
 "cells": [
  {
   "cell_type": "markdown",
   "metadata": {},
   "source": [
    "\n",
    "# A General Note on the Tutorials\n",
    "\n",
    "Before going through the tutorials, make sure coffe is installed properly. Instructions can be found under Getting Started.\n",
    "\n",
    "Instead of running the tutorials in-place, you may want to start by copying the example folder to a custom location.\n",
    "\n",
    "If you are using a Jupyter notebook -- one can enabled autoreload to record instant changes to the code using the following two commands. (If you are not using Jupyter, then skip the next two lines.)"
   ]
  },
  {
   "cell_type": "code",
   "execution_count": null,
   "metadata": {},
   "outputs": [],
   "source": [
    "%reload_ext autoreload"
   ]
  },
  {
   "cell_type": "code",
   "execution_count": null,
   "metadata": {},
   "outputs": [],
   "source": [
    "%autoreload 2"
   ]
  },
  {
   "cell_type": "markdown",
   "metadata": {},
   "source": [
    "\n",
    "\n",
    "# Creating Boxes using COFFE and Gromacs\n",
    "\n",
    "COFFE can be used to create simulation boxes in Gromacs.\n",
    "These functions are implemented in coffe.gmx.boxes.\n",
    "\n",
    "Let us start with the simple example of a homogeneous system.\n",
    "\n",
    "## First Example: Homogeneous Hexadecane System\n",
    "At first, we want to create a homogeneous box that contains 126 hexadecane molecules. \n",
    "The required input files can be found in this directory:\n",
    "\n",
    "- a pdb file *c16.pdb* describing the structure of a single hexadecane molecule,\n",
    "- a modified version of the CHARMM force field in the directory *charmm36-andi*.\n",
    "\n",
    "There is a first thing to note here. The actual force field directory *charmm36-andi.ff* is wrapped by another directory *(charmm36-andi)*, to make sure that it is the only force field directory in the folder. This property is required by some coffe functions.\n",
    "\n",
    "Using these two inputs, we can now generate a simulation box.\n"
   ]
  },
  {
   "cell_type": "markdown",
   "metadata": {},
   "source": [
    "### Creating a Homogeneous System from Python Code\n",
    "To create the box directly from python code, we have to import the python module.\n"
   ]
  },
  {
   "cell_type": "code",
   "execution_count": null,
   "metadata": {},
   "outputs": [],
   "source": [
    "from coffe.gmx.boxes import gmx_mkbox_homogeneous"
   ]
  },
  {
   "cell_type": "markdown",
   "metadata": {},
   "source": [
    "As can be seen from the documentation of this function, it returns a structure file and a topology file. \n",
    "\n",
    "As input arguments, it requires the input structure of a single molecule, the number of molecules, and the box size (in nm). There are some more optional arguments. The forcefield can be specified using ```gmx_ff``` (for built-in Gromacs force fields) or ```ff_dir``` (for custom force fields, as in our case).\n",
    "\n",
    "The box can now be created via\n"
   ]
  },
  {
   "cell_type": "code",
   "execution_count": null,
   "metadata": {},
   "outputs": [],
   "source": [
    "structure, topology = gmx_mkbox_homogeneous(\n",
    "    substance=\"../c16.pdb\", n_mols=126, box_size=5.0, \n",
    "    ff_dir=\"../charmm36-andi/charmm36-andi.ff\",\n",
    "    work_dir=\"./output_I\", substance_name=\"c16\"\n",
    ")"
   ]
  },
  {
   "cell_type": "markdown",
   "metadata": {},
   "source": [
    "The argument ```work_dir``` specifies the working directory for coffe.\n"
   ]
  },
  {
   "cell_type": "markdown",
   "metadata": {},
   "source": [
    "#### Output\n",
    "Let us now take a look at the output directory.\n"
   ]
  },
  {
   "cell_type": "code",
   "execution_count": null,
   "metadata": {},
   "outputs": [],
   "source": [
    "%%bash \n",
    "ls -lrta output_I"
   ]
  },
  {
   "cell_type": "markdown",
   "metadata": {},
   "source": [
    "The code created \n",
    "- an input topology *c16.itp* that defines the hexadecane force field,\n",
    "- a topology file *topol.top* that includes the itp file and the force field,\n",
    "- a structure file *out.gro* that defines the simulation box.\n",
    "\n",
    "These files can be used directly to setup a gromacs simulation.\n",
    "\n",
    "Moreover, there is a hidden directory *.coffe*, which will now be discussed in greater depth."
   ]
  },
  {
   "cell_type": "code",
   "execution_count": null,
   "metadata": {},
   "outputs": [],
   "source": [
    "%%bash\n",
    "ls -lrta output_I/.coffe"
   ]
  },
  {
   "cell_type": "markdown",
   "metadata": {},
   "source": [
    "#### The *.coffe* Directory\n",
    "The .coffe directory contains temporary files, raw output and logging.\n",
    "It is automatically created for each working directory.\n",
    "\n",
    "The file *log.txt* contains detailed logging commands.\n"
   ]
  },
  {
   "cell_type": "code",
   "execution_count": null,
   "metadata": {},
   "outputs": [],
   "source": [
    "%%bash\n",
    "more output_I/.coffe/log.txt"
   ]
  },
  {
   "cell_type": "markdown",
   "metadata": {},
   "source": [
    "The .out and .err files contain stdout and stderr of subcommands."
   ]
  },
  {
   "cell_type": "markdown",
   "metadata": {},
   "source": [
    "### Creating a Homogeneous System from Configuration Files\n",
    "\n",
    "In many situations, configuration files are a useful means to store arguments for simulations.\n",
    "\n",
    "Instead of passing all arguments to a function, we can as well store them in the section of a configuration file. \n",
    "\n",
    "An examplary configuration file can be found in *hexa_126.cfg*.\n"
   ]
  },
  {
   "cell_type": "code",
   "execution_count": null,
   "metadata": {},
   "outputs": [],
   "source": [
    "%%bash\n",
    "more hexa_126.cfg"
   ]
  },
  {
   "cell_type": "markdown",
   "metadata": {},
   "source": [
    "Note that all parameters have to be given in exactly the same format as in the argument list of the function.\n",
    "\n",
    "The function can now be called with two keyword arguments \n",
    "```cfg_file```\n",
    "and \n",
    "```section```."
   ]
  },
  {
   "cell_type": "code",
   "execution_count": null,
   "metadata": {},
   "outputs": [],
   "source": [
    "structure, topology = gmx_mkbox_homogeneous(\n",
    "    cfg_file=\"hexa_126.cfg\", section=\"my_box\")"
   ]
  },
  {
   "cell_type": "markdown",
   "metadata": {},
   "source": [
    "Note that this functionality is supported by the decorator  ```args_from_configfile```. If you as a developer want to use this decorator yourself, please make sure that all arguments are well tested. Otherwise, the error messages can easily become very complex."
   ]
  },
  {
   "cell_type": "code",
   "execution_count": null,
   "metadata": {},
   "outputs": [],
   "source": [
    "%%bash \n",
    "more ./output_II/.coffe/log.txt"
   ]
  },
  {
   "cell_type": "markdown",
   "metadata": {},
   "source": [
    "### Creating a Homogeneous System via the Command Line Interface\n",
    "\n"
   ]
  },
  {
   "cell_type": "markdown",
   "metadata": {},
   "source": [
    "Finally, the coffe command line interface can execute the box-generating functions via subcommands.\n",
    "\n",
    "The equivalent command line call is:\n",
    "\n",
    "** coffe gmx mkbox --boxtype homogeneous hexa_126.cfg my_box**\n",
    "\n",
    "To see other subcommands, type\n",
    "** coffe gmx mkbox --help **\n",
    "on the command line."
   ]
  },
  {
   "cell_type": "markdown",
   "metadata": {},
   "source": [
    "## More Examples\n",
    "More examples can be found in tests/gmx/boxes/boxes.cfg"
   ]
  }
 ],
 "metadata": {
  "kernelspec": {
   "display_name": "Python 3",
   "language": "python",
   "name": "python3"
  },
  "language_info": {
   "codemirror_mode": {
    "name": "ipython",
    "version": 3
   },
   "file_extension": ".py",
   "mimetype": "text/x-python",
   "name": "python",
   "nbconvert_exporter": "python",
   "pygments_lexer": "ipython3",
   "version": "3.6.5"
  }
 },
 "nbformat": 4,
 "nbformat_minor": 2
}
