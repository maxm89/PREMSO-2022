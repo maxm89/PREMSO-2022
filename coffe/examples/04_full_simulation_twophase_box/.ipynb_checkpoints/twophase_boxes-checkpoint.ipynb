{
 "cells": [
  {
   "cell_type": "markdown",
   "metadata": {},
   "source": [
    "# Running a two-phase simulation with GROMACS\n",
    "\n",
    "This Tutorial will give you examples on how you can run a full gromacs simulation with a two-phase box. This includes a setup with coffe module gmx_mkbox_twophase and the following simulation.\n",
    "\n"
   ]
  },
  {
   "cell_type": "code",
   "execution_count": null,
   "metadata": {},
   "outputs": [],
   "source": [
    "%reload_ext autoreload"
   ]
  },
  {
   "cell_type": "code",
   "execution_count": null,
   "metadata": {},
   "outputs": [],
   "source": [
    "%autoreload 2"
   ]
  },
  {
   "cell_type": "markdown",
   "metadata": {},
   "source": [
    "## Creating a two-phase box using gmx_mkbox_twophase\n",
    "\n",
    "First we start off creating a homogeneous box with a vapor and liquid phase. We will use the Ethane Molecule c2.pdb and the same forcefield as in the previous examples (charmm36-andi).\n",
    "To create a twophase box we have to import the python module."
   ]
  },
  {
   "cell_type": "code",
   "execution_count": null,
   "metadata": {},
   "outputs": [],
   "source": [
    "from coffe.gmx.boxes import gmx_mkbox"
   ]
  },
  {
   "cell_type": "markdown",
   "metadata": {},
   "source": [
    "The input and output is similar two the gmx_mkbox_homogeneous function as it returns a structure and a topology file. However because you have a vapor and a liquid phase, two n_mols are required as input.\n",
    "\n",
    "The function places three boxes with each one having the box size (nm) given in  the input. The middle box is the liquid phase containing n_mols_l molecules surrounded by two boxes with a vapor phase each containing n_mols_v molecules.\n",
    "\n",
    "As further required input you need the input structure (pdb-file) and a force-field.\n",
    "\n",
    "When you want to setup a twophase system you need to fill your boxes accordingly to the expected densities near to the boiling curve. In our case we will later on apply a temperature of 266 K and a pressure of 20 bar. You can get experimental densities from the internet, e.g. at https://webbook.nist.gov/chemistry/fluid/ .\n",
    "\n",
    "With the densities given you can either choose n_mol_l or box_size freely and calculate the other. With 512 molecules in the liquid phase, you get a box_size of 3.95 nm and a n_mol_v of 46.\n",
    "\n",
    "The boxes are created via:"
   ]
  },
  {
   "cell_type": "code",
   "execution_count": null,
   "metadata": {
    "scrolled": true
   },
   "outputs": [],
   "source": [
    "structure, topology = gmx_mkbox(boxtype=\"twophase\",\n",
    "    substance=\"../c2.pdb\", n_mols_v=46, n_mols_l=512, box_size=3.95,\n",
    "    ff_dir=\"../charmm36-andi/charmm36-andi.ff\",work_dir=\"./output_I\",\n",
    "    substance_name=\"Ethane\"\n",
    ")"
   ]
  },
  {
   "cell_type": "markdown",
   "metadata": {},
   "source": [
    "The forcefield can be specified using ```gmx_ff``` (for built-in Gromacs force fields) or ```ff_dir``` (for custom force fields, as in our case). \n",
    "\n",
    "The argument ```work_dir``` specifies the working directory for coffe.\n",
    "\n",
    "Now lets have a look at the output the function provided:"
   ]
  },
  {
   "cell_type": "code",
   "execution_count": null,
   "metadata": {},
   "outputs": [],
   "source": [
    "%%bash\n",
    "ls -lrta output_I/"
   ]
  },
  {
   "cell_type": "markdown",
   "metadata": {},
   "source": [
    "The code created\n",
    "- an input topology *Ethane.itp* that defines the Ethane force field,\n",
    "- a topology file *topol.top* that includes the itp file and the force field,\n",
    "- a structure file *out.gro* that defines the simulation box."
   ]
  },
  {
   "cell_type": "markdown",
   "metadata": {},
   "source": [
    "Now that we set up the box we can start the energy minimization.\n",
    "\n",
    "## Energy Minimization\n",
    "\n",
    "Now, we can create an instance of GmxCalculation for the energy minimization, using the *em_steep.mpd* file that is also in the directory."
   ]
  },
  {
   "cell_type": "code",
   "execution_count": null,
   "metadata": {},
   "outputs": [],
   "source": [
    "from coffe.gmx.sim import GmxCalculation\n",
    "import os\n",
    "\n",
    "emin = GmxCalculation(structure, topology, \"../../em_steep.mdp\",\n",
    "                     work_dir=\"./output_I/emin\")\n",
    "emin()"
   ]
  },
  {
   "cell_type": "markdown",
   "metadata": {},
   "source": [
    "A look at the log file shows that the calculation has finished."
   ]
  },
  {
   "cell_type": "code",
   "execution_count": null,
   "metadata": {},
   "outputs": [],
   "source": [
    "%%bash\n",
    "tail ./output_I/emin/.coffe/log.txt"
   ]
  },
  {
   "cell_type": "markdown",
   "metadata": {},
   "source": [
    "Using the *observables* module we can now read and plot the potential energy."
   ]
  },
  {
   "cell_type": "code",
   "execution_count": null,
   "metadata": {},
   "outputs": [],
   "source": [
    "from coffe.gmx import observables\n",
    "pot = observables.gmx_calc_energy(emin.work_dir, [\"Potential\"])\n",
    "\n",
    "%matplotlib inline\n",
    "import matplotlib.pyplot as plt\n",
    "fig, ax = plt.subplots()\n",
    "ax.set_xlabel(\"Step\")\n",
    "ax.set_ylabel(r\"Potential $U$ / kJ $\\mathrm{mol}^{-1}$\")\n",
    "ax.plot(pot[:,0], pot[:,1], lw=2)"
   ]
  },
  {
   "cell_type": "markdown",
   "metadata": {},
   "source": [
    "## NVT Simulation\n",
    "\n",
    "After the Energy Minimization step we can now use the output we got from it and perform a NVT simulation and couple our structure with a warm bath with a temperature of 266 K."
   ]
  },
  {
   "cell_type": "code",
   "execution_count": null,
   "metadata": {},
   "outputs": [],
   "source": [
    "mdp_file = \"../../nvt.mdp\"\n",
    "structure = \"../emin/confout.gro\"\n",
    "nvt = GmxCalculation(structure, topology, mdp_file,\n",
    "                     work_dir=\"./output_I/nvt\")\n",
    "nvt()"
   ]
  },
  {
   "cell_type": "markdown",
   "metadata": {},
   "source": [
    "... and calculate the potential energy and temperature."
   ]
  },
  {
   "cell_type": "code",
   "execution_count": null,
   "metadata": {},
   "outputs": [],
   "source": [
    "pot_t = observables.gmx_calc_energy(nvt.work_dir, [\"Potential\", \"Temperature\"])\n"
   ]
  },
  {
   "cell_type": "markdown",
   "metadata": {},
   "source": [
    "And plot our results:"
   ]
  },
  {
   "cell_type": "code",
   "execution_count": null,
   "metadata": {},
   "outputs": [],
   "source": [
    "%matplotlib inline\n",
    "import matplotlib.pyplot as plt\n",
    "fig, ax = plt.subplots()\n",
    "ax.set_xlabel(\"Time / ps\")\n",
    "ax.set_ylabel(r\"Potential $U$ / kJ $\\mathrm{mol}^{-1}$\")\n",
    "ax.plot(pot_t[:,0], pot_t[:,1], lw=2)"
   ]
  },
  {
   "cell_type": "code",
   "execution_count": null,
   "metadata": {},
   "outputs": [],
   "source": [
    "%matplotlib inline\n",
    "import matplotlib.pyplot as plt\n",
    "fig, ax = plt.subplots()\n",
    "ax.set_xlabel(\"Time / ps\")\n",
    "ax.set_ylabel(r\"Temperature $T$ / K\")\n",
    "ax.plot(pot_t[:,0], pot_t[:,2], lw=2)"
   ]
  },
  {
   "cell_type": "markdown",
   "metadata": {},
   "source": [
    "After the NVT equilibration we run the NPT equilibration step, where we apply 20 bar of pressure to our system."
   ]
  },
  {
   "cell_type": "code",
   "execution_count": null,
   "metadata": {},
   "outputs": [],
   "source": [
    "mdp_file = \"../../npt.mdp\"\n",
    "structure = \"../emin/confout.gro\"\n",
    "\n",
    "npt = GmxCalculation(structure, topology, mdp_file,\n",
    "                     work_dir = \"./output_I/npt\",\n",
    "                     checkpoint = \"../nvt/state.cpt\")\n",
    "npt()"
   ]
  },
  {
   "cell_type": "code",
   "execution_count": null,
   "metadata": {},
   "outputs": [],
   "source": [
    "vol_p = observables.gmx_calc_energy(npt.work_dir, [\"Volume\", \"Pressure\"])"
   ]
  },
  {
   "cell_type": "code",
   "execution_count": null,
   "metadata": {},
   "outputs": [],
   "source": [
    "%matplotlib inline\n",
    "import matplotlib.pyplot as plt\n",
    "fig, ax = plt.subplots()\n",
    "ax.set_xlabel(\"Time / ps\")\n",
    "ax.set_ylabel(r\"Volume $V$ / $\\mathrm{nm}^{3}$\")\n",
    "ax.plot(vol_p[:,0], vol_p[:,2], lw=2)"
   ]
  },
  {
   "cell_type": "code",
   "execution_count": null,
   "metadata": {},
   "outputs": [],
   "source": [
    "%matplotlib inline\n",
    "import matplotlib.pyplot as plt\n",
    "fig, ax = plt.subplots()\n",
    "ax.set_xlabel(\"Time / ps\")\n",
    "ax.set_ylabel(r\"Pressure $p$ / $\\mathrm{bar}$\")\n",
    "ax.plot(vol_p[:,0], vol_p[:,1], lw=2)"
   ]
  },
  {
   "cell_type": "markdown",
   "metadata": {},
   "source": [
    "## Using coffe command chain generators\n",
    "\n",
    "The whole simulation can also be run with the coffe command chain generators. This is useful when you want to run one or more simulations as a whole. As shown in example 3 you start by using the GmxChainGenerator command:"
   ]
  },
  {
   "cell_type": "code",
   "execution_count": null,
   "metadata": {},
   "outputs": [],
   "source": [
    "from coffe.gmx import sim, simgen\n",
    "generator = simgen.GmxChainGenerator(\n",
    "    names=[\"emin\", \"nvt\", \"npt\", \"prod\"], \n",
    "    mdp_files=[\"em_steep.mdp\", \"nvt.mdp\", \"npt.mdp\", \"prod.mdp\"],\n",
    "    mdp_options=None # can be used to overwrite options in the mdp files\n",
    ")"
   ]
  },
  {
   "cell_type": "code",
   "execution_count": null,
   "metadata": {},
   "outputs": [],
   "source": [
    "%%bash \n",
    "pwd"
   ]
  },
  {
   "cell_type": "markdown",
   "metadata": {},
   "source": [
    "Now that we got the generator, we can create our boxes and use the generator to generate simulation chains for out system."
   ]
  },
  {
   "cell_type": "code",
   "execution_count": null,
   "metadata": {},
   "outputs": [],
   "source": [
    "from coffe.gmx import boxes\n",
    "structure, topology = boxes.gmx_mkbox(boxtype=\"twophase\", cfg_file=\"boxes.cfg\", section=\"ethane\")\n",
    "\n",
    "ethane_chain = generator.generate(\"output_chain\",structure,topology)"
   ]
  },
  {
   "cell_type": "markdown",
   "metadata": {},
   "source": [
    "You can execute the chain and run the simulation locally by calling:"
   ]
  },
  {
   "cell_type": "code",
   "execution_count": null,
   "metadata": {},
   "outputs": [],
   "source": [
    "ethane_chain()"
   ]
  },
  {
   "cell_type": "markdown",
   "metadata": {},
   "source": [
    "## Running the chain on a cluster\n",
    "\n",
    "After the chain is generated we can use the coffe cluster module to create a job for our simulation on the cluster. A cluster job is created as follows: "
   ]
  },
  {
   "cell_type": "code",
   "execution_count": null,
   "metadata": {},
   "outputs": [],
   "source": [
    "from coffe.core import cluster\n",
    "\n",
    "queueing=None\n",
    "batch_template=None\n",
    "job_name=\"coffe_job\"\n",
    "work_dir=\"./output_cluster\"\n",
    "job = cluster.ClusterJob(queueing, batch_template, job_name, work_dir)"
   ]
  },
  {
   "cell_type": "markdown",
   "metadata": {},
   "source": [
    "On an actual compute cluster, you will need to set queueing to \"torque\" or \"slurm\", depending on which submission system your cluster uses. Moreover, you need to provide a batch template file, i.e. a file that contains only the preamble of a batch script. (By setting both options to ```None```, the job will still run locally.) The commands will be inserted automatically by adding simulation classes to the cluster job:"
   ]
  },
  {
   "cell_type": "code",
   "execution_count": null,
   "metadata": {},
   "outputs": [],
   "source": [
    "job += ethane_chain"
   ]
  },
  {
   "cell_type": "markdown",
   "metadata": {},
   "source": [
    "Each simulation instance that is added to a cluster must have an empty ```__call__``` function.\n",
    "It is also possible to append strings, which will be interpreted as shell commands.\n",
    "This can be helpful, e.g., to run analyses after the actual simulation."
   ]
  },
  {
   "cell_type": "code",
   "execution_count": null,
   "metadata": {},
   "outputs": [],
   "source": [
    "# something trivial\n",
    "job += 'echo \"Hallo\" '"
   ]
  },
  {
   "cell_type": "markdown",
   "metadata": {},
   "source": [
    "To start a job, just call:"
   ]
  },
  {
   "cell_type": "code",
   "execution_count": null,
   "metadata": {},
   "outputs": [],
   "source": [
    "# job_id = job.submit()    "
   ]
  },
  {
   "cell_type": "markdown",
   "metadata": {},
   "source": [
    "```job.submit()``` returns a job id, to track your job.\n",
    "\n",
    "Moreover, it provides functionality to check the status of a job or kill a job.\n",
    "```\n",
    "job.get_status() \n",
    "job.kill()\n",
    "```\n",
    "\n",
    "job.get_status() returns one of the following strings:\n",
    "\n",
    "|result | meaning |\n",
    "|--|---|\n",
    "|not written | batch script is not written, yet |\n",
    "|not submitted | job is not submitted, yet|\n",
    "|queueing | job is in queue |\n",
    "|running | job is running |\n",
    "|completed | job is completed  |\n",
    "|error | job failed|\n",
    "\n",
    "## Putting It All Together\n",
    "In the above code, the actual submission was commented out, to prevent this notebook from starting expensive calculations.\n",
    "To test the whole workflow on a real cluster, checkout the subdirectory \"workflow\". This subdirectory contains an executable python script \"workflow.py\" and a configuration file \"workflow.cfg\" to run the discussed simulations on a real cluster.\n",
    "\n",
    "Note that you may need to adapt the batch script and queueing system to your cluster configuration."
   ]
  }
 ],
 "metadata": {
  "kernelspec": {
   "display_name": "Python 3",
   "language": "python",
   "name": "python3"
  },
  "language_info": {
   "codemirror_mode": {
    "name": "ipython",
    "version": 3
   },
   "file_extension": ".py",
   "mimetype": "text/x-python",
   "name": "python",
   "nbconvert_exporter": "python",
   "pygments_lexer": "ipython3",
   "version": "3.6.7"
  }
 },
 "nbformat": 4,
 "nbformat_minor": 2
}
