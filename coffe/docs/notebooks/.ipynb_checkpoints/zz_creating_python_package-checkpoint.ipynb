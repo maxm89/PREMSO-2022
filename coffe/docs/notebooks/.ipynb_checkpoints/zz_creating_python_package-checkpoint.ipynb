{
 "cells": [
  {
   "cell_type": "markdown",
   "metadata": {},
   "source": [
    "# Creating the Python COFFE Package\n",
    "This notebook describes how the coffe project was created.\n",
    "\n",
    "## Accounts\n",
    "Create accounts on gitlab, github and pypi.\n",
    "\n",
    "## Cookiecutter\n",
    "Cookiecutter is a tool that helps to create python packages. It can be installed via conda, pip or homebrew, e.g. like\n",
    "\n",
    "```\n",
    "brew install cookiecutter\n",
    "```\n",
    "\n",
    "Cookiecutter initializes projects from a template. I used the basic pypackage template:\n",
    "\n",
    "```\n",
    "cookiecutter gh:audreyr/cookiecutter-pypackage\n",
    "```\n",
    "\n",
    "The command line prompts guide you through the project creation process.\n",
    "\n",
    "## Install Package (developer version) \n",
    "```\n",
    "python setup.py develop\n",
    "```\n",
    "\n",
    "## Setup git\n",
    "Initialize repository and push to gitlab.\n",
    "\n",
    "## Considerations for the Future\n",
    "- Continuous Integration (Travis CI): Requires a github subscription\n",
    "- Versioneer for fancy version control\n",
    "\n",
    "\n"
   ]
  }
 ],
 "metadata": {
  "kernelspec": {
   "display_name": "Python 3",
   "language": "python",
   "name": "python3"
  },
  "language_info": {
   "codemirror_mode": {
    "name": "ipython",
    "version": 3
   },
   "file_extension": ".py",
   "mimetype": "text/x-python",
   "name": "python",
   "nbconvert_exporter": "python",
   "pygments_lexer": "ipython3",
   "version": "3.6.1"
  }
 },
 "nbformat": 4,
 "nbformat_minor": 2
}
