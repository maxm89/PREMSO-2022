{
 "cells": [
  {
   "cell_type": "markdown",
   "metadata": {},
   "source": [
    "# Adding Stuff to COFFE"
   ]
  },
  {
   "cell_type": "markdown",
   "metadata": {},
   "source": [
    "## Adding Packages\n",
    "A python package is a directory that contains a file named ```__init__.py```.\n",
    "It can be imported as \n",
    "```\n",
    "import coffe.mynewpackagename\n",
    "```\n",
    "For each new package, create a directory in the tests folder."
   ]
  },
  {
   "cell_type": "markdown",
   "metadata": {
    "collapsed": true
   },
   "source": [
    "## Adding Modules\n",
    "\n",
    "### Header\n",
    "Start each new module with the following lines:\n",
    "\n",
    "```\n",
    "# -*- coding: utf-8 -*-\n",
    "\n",
    "\"\"\"A docstring that describes what the module does.\"\"\"\n",
    "\n",
    "from __future__ import absolute_import, division, print_function\n",
    "```\n",
    "\n",
    "The last line helps to support compatibility with python 2 and 3. \n",
    "\n",
    "### Test module\n",
    "For each new module, create a test module named test_*modulename*.py in the tests directory. The structure of the tests directory should resemble the structure of the coffe directory."
   ]
  },
  {
   "cell_type": "markdown",
   "metadata": {},
   "source": [
    "## Adding Simulation Classes\n",
    "Coffe uses classes to encapsulate tasks that should be able to run on the compute node of a cluster (usually simulations or QM calculations).\n",
    "\n",
    "Each of these simulation classes requires two functions:\n",
    "- a constructor ```__init__(self, many, more, arguments, and, default=\"arguments\")```\n",
    "- a call function ```__call__(self)``` with no arguments but ```self```\n",
    "\n",
    "Moreover, **each simulation class should inherit from coffe.core.filesys.ClassWithLogger**, to enable saving and loading.\n",
    "\n",
    "Obeying these three conventions will allow your classes to be used in combination with the ```cluster``` module.\n",
    "\n",
    "### The Constructor\n",
    "The constructor is responsible for checking your arguments (existence of files and directories, running the preprocessor, ...) and set up everything that is required for the simulation. In doing so, it can detect errors already on the head node, rather than waiting for a simulation to start.\n",
    "\n",
    "#### The ```args_from_configfile``` Decorator\n",
    "Simulation classes can have a whole bunch of arguments, especially those that run many simulations sequentially. For ease-of-use, your constructor should be decorated with the decorator ```args_from_configfile``` that is defined in ```coffe.core.decorators```.\n",
    "\n",
    "```\n",
    "from coffe.core.decorators import args_from_configfile\n",
    "\n",
    "class SomeSimulationClass(object):\n",
    "\n",
    "    @args_from_configfile\n",
    "    def __init__(self, and, many, more, arguments):\n",
    "        ...\n",
    "```\n",
    "\n",
    "Using this decorator enables classes to be constructed from configuration files.\n",
    "A typical configuration file would look like this:\n",
    "\n",
    "```\n",
    "config.cfg\n",
    "----------\n",
    "\n",
    "[my_sim]\n",
    "and:  'hello'\n",
    "many: 2\n",
    "more: None\n",
    "arguments: 'blablabla'\n",
    "```\n",
    "\n",
    "Instead of creating an instance from a list of arguments, it can now also be created through\n",
    "\n",
    "```\n",
    "    sim = SomeSimulationClass(cfg_file=\"config.cfg\", section=\"my_sim\")\n",
    "```\n",
    "\n",
    "Options from a config file can also be combined with keyword arguments (keyword arguments override config file options).\n",
    "\n",
    "If an option in the config file has the value ```XXX```, the option **must** be specified as a keyword argument.\n",
    "\n",
    "#### Canonical Names\n",
    "\n",
    "| Argument | Description |\n",
    "| -------- | --------|\n",
    "| work_dir / (self.)work_dir | The working directory (default: '.') |\n",
    "| (self.)logger   | The logging instance |\n",
    "| (self.)coffe_dir | A hidden directory .coffe in the work_dir |\n",
    "\n",
    "\n",
    "All ```__init__``` functions of simulation classes, as well as all functions that use subcommands, should have a work_dir argument.\n",
    "\n",
    "#### The Working Directory\n",
    "Coffe functions that include manipulation of files should have an argument work_dir with a default value pointing to the current working directory, i.e. ```work_dir=\".\"```. This working directory is associated with a hidden subdirectory .coffe and a logger instance. Both can be created by the function *coffe.core.filesys.prepare_coffe_work_dir*.\n",
    "\n",
    "**Each path that is passed as an input argument should be absolute, or relative to work_dir.**\n",
    "\n",
    "### The ```__call__``` Function\n",
    "Defining a ```__call__``` function makes an object callable. That means that instances of this class, say ```SomeSimulationClass```, can be called like functions.\n",
    "\n",
    "```\n",
    "my_sim = SomeSimulationClass(... arguments ...)\n",
    "my_sim()\n",
    "```\n",
    "\n",
    "The \"function call\" in the second line then runs the actual simulation.\n",
    "Making sure that ```__call__``` takes no arguments but ```self``` will prevent you from using unchecked arguments.\n",
    "\n",
    "Moreover, it allows to prepare and save simulation classes on the cluster's head node using the ```coffe.core.saver``` module. Later, you can load and run them on a compute node to start the simulation.\n"
   ]
  },
  {
   "cell_type": "markdown",
   "metadata": {},
   "source": [
    "## Adding Functions:\n",
    "\n",
    "Note: Functions can also use the ```args_from_configfile``` decorator."
   ]
  },
  {
   "cell_type": "markdown",
   "metadata": {},
   "source": [
    "## Adding Executables\n",
    "Coffe can be called from the command line via the coffe command. Adding new subcommands is really easy.\n",
    "The command line interface is defined in the module ```cli.py``` \n",
    "\n",
    "\n",
    "To get started, take a look at the *Click* documentation:\n",
    "http://click.pocoo.org/5/"
   ]
  },
  {
   "cell_type": "markdown",
   "metadata": {},
   "source": [
    "## Adding Data Files\n",
    "Many python scripts you write will rely on other data files, e.g. simulation steering scripts. These data files can be split in two categories:\n",
    "\n",
    "1. Files that are inevitable for your functions to work (like simulation steering scripts)\n",
    "    - Those files should be placed inside the coffe package, close to the module that uses them in a directory called *data*\n",
    "    - They can be accessed via the pkgdata module, e.g.\n",
    "    ```\n",
    "    from coffe.core import pkgdata\n",
    "    filename = pkgdata.abspath(\"data/my_file.mdp\")\n",
    "    ```\n",
    "    The *pkgdata* module also has more functionality, like opening and reading files directly, checking for existence, ...\n",
    "2. Files that depend on the specific application (like structure or topology files)\n",
    "    - These files should be clearly seperated from the code. \n",
    "    - Files that are used frequently and should be distributed with the code can be placed in *coffe/core/data*, *coffe/gmx/data*, and so on.\n",
    "    - Files that are specific to YOUR simulations have no place in the repository and should be placed in another directory (e.g. create a directory *coffe_applications* in your home or elsewhere)"
   ]
  },
  {
   "cell_type": "markdown",
   "metadata": {},
   "source": [
    "## Adding Requirements\n",
    "If you add third party functionality, make sure to add the requirements to setup.py.\n",
    "\n",
    "For python modules, the setup.py has a list `requirements`, where you have to add the python module to be installed from the python package repository.\n",
    "\n",
    "Python requirements that are not modules (e.g. pytest-runner, tox) have to be added to the file requirements_dev.txt. Files listed in requirements_dev.txt are installed by the Continuous Integration runner before invoking the test suite.\n",
    "\n",
    "### Supporting New Simulation Packages and Non-Python Programs\n",
    "All simulation packages are optional in coffe, i.e. the setup should not rely on the installation of any simulation package. Coffe's functionality however depends heavily on the simulation packages that are installed on the system, meaning that missing packages will throw exceptions.\n",
    "\n",
    "For meaningful exceptions, \n",
    "1) functions should explicitly check for the programs that they rely on\n",
    "2) and unit tests should only invoked when the packages are installed.\n",
    "\n",
    "These checks are implemented in the module *coffe.core.thirdparty*. See the documentation of the module for details.\n",
    "\n"
   ]
  },
  {
   "cell_type": "code",
   "execution_count": null,
   "metadata": {},
   "outputs": [],
   "source": [
    "# A) Whole test module depends on Amber -- Set pytestmark before the test definitions\n",
    "pytestmark = pytest.mark.skipif(not thirdparty.AMBER.exists,\n",
    "                                reason=\"The tests in this module require a functioning Amber installation\")\n",
    "\n",
    "# B) A single test function depends on Amber -- Use skipif decorator\n",
    "@pytest.mark.skipif(not thirdparty.AMBER.exists,\n",
    "                    reason=\"requires Amber\")\n",
    "def my_test_function():\n",
    "    ...\n",
    "\n"
   ]
  }
 ],
 "metadata": {
  "kernelspec": {
   "display_name": "Python 3",
   "language": "python",
   "name": "python3"
  },
  "language_info": {
   "codemirror_mode": {
    "name": "ipython",
    "version": 3
   },
   "file_extension": ".py",
   "mimetype": "text/x-python",
   "name": "python",
   "nbconvert_exporter": "python",
   "pygments_lexer": "ipython3",
   "version": "3.6.3"
  }
 },
 "nbformat": 4,
 "nbformat_minor": 2
}
