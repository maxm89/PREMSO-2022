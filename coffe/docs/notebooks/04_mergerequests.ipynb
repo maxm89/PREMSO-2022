{
 "cells": [
  {
   "cell_type": "markdown",
   "metadata": {},
   "source": [
    "# Handling Merge Requests\n",
    "\n",
    "Every change to the master branch has to go through a merge request (including changes by internal developers). Merge requests guarantee a peer-review of the code."
   ]
  },
  {
   "cell_type": "markdown",
   "metadata": {},
   "source": [
    "\n",
    "## Github Flow\n",
    "\n",
    "The workflow for coffe's development follows [github flow](https://guides.github.com/introduction/flow/). A continuous integration (CI) framework is employed to ensure that the code works at all stages of the development process. The CI tests coffe for python 2 and python 3. It also makes sure that coffe can be installed and used in the presence and absence of different simulation packages (at present: Gromacs, Amber, and CHARMM).\n"
   ]
  },
  {
   "cell_type": "markdown",
   "metadata": {},
   "source": [
    "### The master Branch\n",
    "The master branch should be 100% reliable. It has to remain clean at all stages, i.e. branches with CI failures are not to be merged into master. Therefore merging into and pushing to master should always be done via merge requests, even for core developers.\n",
    "\n",
    "### Feature Branches\n",
    "Ideally, features are relatively small, independent, well-tested and well-documented units of code. Every new feature or contribution is developed in a special feature branch that can live locally on your machine or on the gitlab repository. After the feature is finished, it is merged into develop and the feature branch should be removed. \n",
    "\n",
    "### Merging your Feature into master\n",
    "If you have finished a feature, you should share it with others by merging into master. Follow these steps:"
   ]
  },
  {
   "cell_type": "markdown",
   "metadata": {},
   "source": [
    "#### A) Update to the Current master Branch\n",
    "```\n",
    "git checkout master\n",
    "git pull origin master\n",
    "git checkout <your_feature>\n",
    "git merge master   \n",
    "```\n",
    "You may have to resolve conflicts after this last step."
   ]
  },
  {
   "cell_type": "markdown",
   "metadata": {},
   "source": [
    "#### B) Push to Remote Repository\n",
    "```\n",
    "git push origin <your_feature>      \n",
    "```\n",
    "Now wait for the continuous integration framework to run through. You can check the progress and track errors on [coffe's CI tab](https://gitlab.com/Olllom/coffe/pipelines). Failures in the CI show that there are potential problems with your code that other users may encounter when installing and using coffe. Common failures are:\n",
    " - code that is not compatible with both python 2 and python 3\n",
    " - dependencies on libraries that are not mentioned in setup.py\n",
    " - round-off errors in tests that could be problematic on a different operating system\n",
    " Please fix any issues and push until the CI does not complain any more."
   ]
  },
  {
   "cell_type": "markdown",
   "metadata": {},
   "source": [
    "#### C) Create a Merge Request\n",
    "Merge requests (or pull requests) expose your feature to a peer-review process. Before merging into master, the feature can be discussed and fixes can be committed.\n",
    "\n",
    "Before creating a merge request, you should make sure that\n",
    "1. all continuous integration pipelines run without errors\n",
    "- your code is well documented\n",
    "- you have written unit tests for all parts of your code\n",
    "\n",
    "(If you have trouble with any of these points, you can still create a merge reqeust and mention your issues in the request.)\n",
    "\n",
    "[Merge requests](https://gitlab.com/Olllom/coffe/merge_requests) are initiated on the gitlab page of the repository.\n",
    "\n",
    "Once your branch is merged into master (and only then) your can ..."
   ]
  },
  {
   "cell_type": "markdown",
   "metadata": {},
   "source": [
    "#### D) Delete your Feature Branch\n",
    "##### ... remotely\n",
    "```\n",
    "git push -d origin <your_feature>\n",
    "```\n",
    "##### ... and locally\n",
    "```\n",
    "git branch -d <your_feature> \n",
    "```\n"
   ]
  },
  {
   "cell_type": "markdown",
   "metadata": {},
   "source": [
    "## Guide for Code Reviews\n",
    "\n",
    "Before approving a merge request, code reviewers should make sure that\n",
    "- The feature fits in with coffe's general aim and style of coding\n",
    "- The documentation is clear and in Google docstring format\n",
    "- There are no issues in the continuous integration pipelines\n",
    "- The submitted Unit tests cover the implemented feature to a reasonable extend\n",
    "- The changelog and readme files are updated\n",
    "- If necessary, an example is submitted with the feature\n",
    "- All changes are reasonable and within the scope of the proposed feature\n"
   ]
  }
 ],
 "metadata": {
  "kernelspec": {
   "display_name": "Python 3",
   "language": "python",
   "name": "python3"
  },
  "language_info": {
   "codemirror_mode": {
    "name": "ipython",
    "version": 3
   },
   "file_extension": ".py",
   "mimetype": "text/x-python",
   "name": "python",
   "nbconvert_exporter": "python",
   "pygments_lexer": "ipython3",
   "version": "3.6.1"
  }
 },
 "nbformat": 4,
 "nbformat_minor": 2
}
