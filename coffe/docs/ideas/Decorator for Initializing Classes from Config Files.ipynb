{
 "cells": [
  {
   "cell_type": "markdown",
   "metadata": {},
   "source": [
    "Basic idea:\n",
    "decorator for init functions so that constructors with a lot of arguments can be initialized from a configuration file.\n",
    "\n",
    "\n"
   ]
  },
  {
   "cell_type": "code",
   "execution_count": 113,
   "metadata": {},
   "outputs": [],
   "source": [
    "import configparser\n",
    "import inspect\n",
    "import os\n",
    "\n",
    "def args_from_configfile(func):\n",
    "    \"\"\"A decorator that enables to retrieve function arguments from config files.\n",
    "    Instead of passing all arguments, you can also pass a keyword 'cfg_file' \n",
    "    and a keyword 'section'.\n",
    "    The function is then called with the parameters specified in the section of\n",
    "    a config file. \n",
    "    \n",
    "    When using this decorator on constructors, the class is created from cfg_file.\n",
    "    \n",
    "    Note that the keyword \"cfg_file\" overrides all other function\n",
    "    arguments. \n",
    "    Note also that all arguments specified config file's section are\n",
    "    passed as function parameters.\n",
    "    \"\"\"\n",
    "    args = inspect.getfullargspec(func)[0]\n",
    "    print(args)\n",
    "    wrapper = None\n",
    "    if len(args) > 0 and args[0] == \"self\":\n",
    "        def method_wrapper(*args,**kwargs):     \n",
    "            if \"cfg_file\" in kwargs:\n",
    "\n",
    "                cfg_file = kwargs[\"cfg_file\"]\n",
    "                assert \"section\" in kwargs\n",
    "                section = kwargs[\"section\"]\n",
    "                assert os.path.isfile(cfg_file)\n",
    "\n",
    "                cfg = configparser.ConfigParser()\n",
    "                cfg.read(cfg_file)\n",
    "                assert cfg.has_section(section)\n",
    "                options_dict = {}\n",
    "                for opt in cfg.options(section):\n",
    "                    options_dict[opt] = cfg.get(section,opt)\n",
    "                return func(self=args[0],**options_dict)\n",
    "            else:\n",
    "                return func(*args,**kwargs)\n",
    "        wrapper = method_wrapper\n",
    "    else:\n",
    "        def function_wrapper(*args,**kwargs):     \n",
    "            if \"cfg_file\" in kwargs:\n",
    "\n",
    "                cfg_file = kwargs[\"cfg_file\"]\n",
    "                assert \"section\" in kwargs\n",
    "                section = kwargs[\"section\"]\n",
    "                assert os.path.isfile(cfg_file)\n",
    "\n",
    "                cfg = configparser.ConfigParser()\n",
    "                cfg.read(cfg_file)\n",
    "                assert cfg.has_section(section)\n",
    "                options_dict = {}\n",
    "                for opt in cfg.options(section):\n",
    "                    options_dict[opt] = cfg.get(section,opt)\n",
    "                return func(**options_dict)\n",
    "            else:\n",
    "                return func(*args,**kwargs)\n",
    "        wrapper = function_wrapper    \n",
    "    return wrapper"
   ]
  },
  {
   "cell_type": "code",
   "execution_count": 114,
   "metadata": {},
   "outputs": [
    {
     "name": "stdout",
     "output_type": "stream",
     "text": [
      "['self', 'arg1', 'arg2', 'arg3', 'arg4', 'arg5']\n",
      "['arg1', 'arg2', 'arg3']\n"
     ]
    }
   ],
   "source": [
    "class A:\n",
    "    @args_from_configfile\n",
    "    def __init__(self, arg1, arg2, arg3, arg4=None, arg5=None):\n",
    "        print(arg1,arg2,arg3,arg4,arg5)\n",
    "        \n",
    "@args_from_configfile\n",
    "def test_function(arg1,arg2,arg3):\n",
    "    print(\"test function with\", arg1, arg2, arg3)"
   ]
  },
  {
   "cell_type": "code",
   "execution_count": 115,
   "metadata": {},
   "outputs": [
    {
     "name": "stdout",
     "output_type": "stream",
     "text": [
      "1 2 3 None None\n",
      "10 11 12 13 14\n",
      "100 101 102 None None\n",
      "test function with 100 101 102\n"
     ]
    }
   ],
   "source": [
    "a = A(1,2,3)\n",
    "b = A(1,2,3,4,cfg_file=\"test.cfg\",section=\"test1\")\n",
    "c = A(cfg_file=\"test.cfg\",section=\"test2\")\n",
    "test_function(cfg_file=\"test.cfg\",section=\"test2\")"
   ]
  },
  {
   "cell_type": "code",
   "execution_count": null,
   "metadata": {
    "collapsed": true
   },
   "outputs": [],
   "source": []
  }
 ],
 "metadata": {
  "kernelspec": {
   "display_name": "Python 3",
   "language": "python",
   "name": "python3"
  },
  "language_info": {
   "codemirror_mode": {
    "name": "ipython",
    "version": 3
   },
   "file_extension": ".py",
   "mimetype": "text/x-python",
   "name": "python",
   "nbconvert_exporter": "python",
   "pygments_lexer": "ipython3",
   "version": "3.6.1"
  }
 },
 "nbformat": 4,
 "nbformat_minor": 2
}
