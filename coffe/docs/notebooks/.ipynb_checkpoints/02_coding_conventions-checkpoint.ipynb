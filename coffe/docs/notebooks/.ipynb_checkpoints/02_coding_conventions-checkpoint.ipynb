{
 "cells": [
  {
   "cell_type": "markdown",
   "metadata": {
    "collapsed": true
   },
   "source": [
    "\n",
    "# Coding Conventions for COFFE developers\n"
   ]
  },
  {
   "cell_type": "markdown",
   "metadata": {},
   "source": [
    "## Programming Language and Library\n",
    "Use Python 3 syntax. \n",
    "Feel free to use python's libraries, like\n",
    "- numpy\n",
    "- pytest\n",
    "- shutil\n",
    "- tempfile\n",
    "- ...\n",
    "\n",
    "## Git\n",
    "It is highly recommended to use git for version control.\n",
    "- Commit regularly.\n",
    "- Merge the reomte develop branch into your branch regularly. This will help other developers to use your stuff - and enable you to use theirs.\n",
    "- Before you commit to the remote develop branch, make sure that you have pulled and merged the current version. Make sure that all unit tests are running seemlessly.\n",
    "- Use meaningful commit messages."
   ]
  },
  {
   "cell_type": "markdown",
   "metadata": {},
   "source": [
    "## Program Structure\n",
    "\n",
    "### COFFE Main Directory\n",
    "\n",
    "| Directory | Content |\n",
    "|-----------|---------|\n",
    "| coffe     | Source code |\n",
    "| docs      | Documentation (like this notebook) |\n",
    "| share     | Files that are distributed with the software (no source code). These include: Steering scripts, Bash scripts for cluster submission, structure files, etc.|\n",
    "| examples  | Tutorials to help others use your code. |\n",
    "| tests     | Unit tests |\n",
    "\n",
    "### Source Directory (coffe)\n",
    "\n",
    "| Subdirectory | Content |\n",
    "|-----------|---------|\n",
    "| core      | core functionality, should remain more or less unchanged |\n",
    "| gmx     | Gromacs simulation classes and functions |\n",
    "| amb     | Amber simulation classes and functions |\n",
    "| ...     | to be continued |\n",
    "\n",
    "\n",
    "\n",
    "\n",
    "### Classes and Functions\n",
    "\n",
    "Simplistic programming style!\n",
    "\n",
    "Use classes only for computationally expensive tasks (usually simulations), and functions elsewhere.\n",
    "\n",
    "Using classes for expensive tasks has the following advantages:\n",
    "- They can be stored and loaded.\n",
    "- Input can be checked on the head node of a cluster, while a computing node does the actual work. This can avoid runtime errors after submission.\n",
    "\n",
    "Simulation classes and their use are described in a separate notebook.\n",
    "\n",
    "### Unit Testing\n",
    "\n",
    "The test directory has the same structure as the source directory.\n",
    "Write unit tests for each function or class.\n",
    "Use py.test for testing.\n"
   ]
  },
  {
   "cell_type": "markdown",
   "metadata": {},
   "source": [
    "## Indentation\n",
    "\n",
    "Use four (4) spaces for indentation. **Do not use tabs.**\n",
    "Preferrably, edit your editor preferences so that each tab you insert gets replaced by 4 spaces automatically."
   ]
  },
  {
   "cell_type": "markdown",
   "metadata": {},
   "source": [
    "## Naming Conventions\n",
    "\n",
    "Names should be descriptive, i.e. they should resemble the functionality of a piece of code accurately. When writing your own functions and classes, please stick to the following conventions:\n",
    "\n",
    "1) Function names start with a lowercase letter, words are seperated by underscores, e.g. \n",
    "\n",
    "```\n",
    "def gmx_mkbox_homogeneous():\n",
    "    pass\n",
    "```\n",
    "\n",
    "2) Class names are CamelCase and start with an uppercase letter, e.g.\n",
    "\n",
    "```\n",
    "class GmxEquilibrationNVT:\n",
    "    pass\n",
    "```\n",
    "\n",
    "3) Functions and classes that are specific to a simulation engine should start with one of the following abbreviations\n",
    "\n",
    "\n",
    "| Program | Abbreviation |\n",
    "|---------|--------------|\n",
    "|Gromacs|gmx|\n",
    "|Amber|amb|\n",
    "|CHARMM|chm|\n",
    "|OpenMM|omm|\n",
    "|Psi4|psi|\n",
    "|GAMESS|gam|\n",
    "|NAMD|nmd|\n",
    "|QChem|qch|\n",
    "\n",
    "4) Local variables and function parameters are lowercase and seperated by underscores, e.g.\n",
    "\n",
    "```\n",
    "def gmx_mkbox_homogeneous(input_structure, input_topology, nmol, box_size):\n",
    "    pass\n",
    "```\n",
    "\n",
    "\n"
   ]
  },
  {
   "cell_type": "markdown",
   "metadata": {},
   "source": [
    "## Comments\n",
    "1) Use comments wisely. Do not overload your code with comments, but do not use them too sparingly, either. **If the code speaks for itself, comments are not required.**\n",
    "\n",
    "2) Use python's docstrings to comment modules, functions and classes. Describe accurately\n",
    "\n",
    "-  what a function or class does,\n",
    "-  which arguments it takes,\n",
    "-  what it returns, and\n",
    "-  what exceptions could be raised.\n",
    "\n",
    "3) Use Google-style documentation [(you can make this the default in PyCharm)](https://www.jetbrains.com/help/pycharm/python-integrated-tools.html).\n",
    "\n",
    "\n",
    "### A few tricks Google-style Documentation:\n",
    "Python uses Sphinx (with nbsphinx sphinx_click) to automatically generate the API's documentation.\n",
    "To rebuild the documentation, you can use the python script \n",
    "*coffe/docs/update_docs.*\n",
    "\n",
    "Here are a few tricks and hints:\n",
    "\n",
    "#### a) Reference other functions/classes/methods:\n",
    "To reference another function's documentation, use\n",
    "```\n",
    ":func:`~coffe.core.decorators.args_from_configfile` \n",
    "```\n",
    "To reference classes, methods, and modules, use `:class:`, `:meth:`, and `:mod:`, respectively.\n",
    "\n",
    "\n",
    "\n",
    "\n",
    "#### b) Careful with decorators:\n",
    "If you write decorators, use functools.wraps, as in coffe.core.decorators.args_from_configfile. Otherwise, they hide the documentation.\n",
    "\n",
    "\n",
    "\n",
    "### Examples:\n",
    "##### A bad (useless) comment:\n",
    "```\n",
    "# initialize i\n",
    "i = 0\n",
    "```\n",
    "\n",
    "#### Good commenting style:\n"
   ]
  },
  {
   "cell_type": "code",
   "execution_count": 3,
   "metadata": {
    "scrolled": true
   },
   "outputs": [],
   "source": [
    "def gmx_mkbox_homogeneous(substance, n_mols, box_size, ff_dir=None, gmx_ff=None,\n",
    "                          create_itp=True, include_topology=None, work_dir=\".\",\n",
    "                          substance_name=\"substance\", box_name=\"box\"):\n",
    "    \"\"\"Make a box that contains molecules of a single species.\n",
    "\n",
    "    Args:\n",
    "        substance(str): Input structure file containing a single molecule.\n",
    "        n_mols(int): Number of molecules.\n",
    "        box_size(float or tuple of 3 floats): Box size in nm\n",
    "        ff_dir(str): (Optional) Forcefield directory.\n",
    "        gmx_ff(str): (Optional) Forcefield name of Gromacs' built-in force field.\n",
    "        create_itp(bool): Flag to call pdb2gmx, if include_topology is not given (default: True).\n",
    "        include_topology(str): (Optional) Include topology.\n",
    "        work_dir(str): Working directory (default=\".\").\n",
    "        substance_name(str): Name of the substance (default=\"substance\").\n",
    "        box_name(str): Name for the system (default=\"box\").\n",
    "\n",
    "    Returns:\n",
    "        Tuple containing two filenames\n",
    "\n",
    "            - structure (str): Structure file.\n",
    "            - topology(str): Topology file.\n",
    "\n",
    "    Raises:\n",
    "        AssertionError: if input files or directories do not exist\n",
    "        coffe.gmx.util.GromacsError: if something goes wrong with the gromacs command\n",
    "\n",
    "    \"\"\"\n",
    "    # Create work dir and logger\n",
    "    local_variables = locals()\n",
    "    _work_dir, coffe_dir, logger = filesys.prepare_coffe_work_dir(work_dir)\n",
    "    logger.info(\"Creating a homogeneous box with {}.\".format(local_variables))\n",
    "\n",
    "    # Check input\n",
    "    try:\n",
    "        _substance = filesys.make_abspath(substance, _work_dir)\n",
    "        assert isinstance(n_mols, int) and n_mols > 0, \"n_mols must be integer > 0\"\n",
    "        if include_topology is not None:\n",
    "            _include_topology = filesys.make_abspath(include_topology, _work_dir)\n",
    "        _ff_dir = ff_dir\n",
    "        if ff_dir is not None:\n",
    "            _ff_dir = filesys.make_abspath(ff_dir, _work_dir)\n",
    "    except AssertionError as e:\n",
    "        logger.exception(e)\n",
    "        raise e\n",
    "\n",
    "    # Create itp\n",
    "    itp_list = [include_topology]\n",
    "    if include_topology is None:\n",
    "        if create_itp:\n",
    "            itp = os.path.join(_work_dir, \"include_topology.itp\")\n",
    "            itp, ff_itp = gmxutil.gmx_pdb2itp(_substance, itp, _ff_dir, gmx_ff, _work_dir)\n",
    "            gmxutil.rename_substance_in_itp(itp, substance_name)\n",
    "            itp_list = [itp]\n",
    "        else:\n",
    "            itp_list = []\n",
    "    else:\n",
    "        ff_itp = os.path.join(\"{}.ff\".format(gmx_ff),\"forcefield.itp\")\n",
    "\n",
    "    # Create box\n",
    "    structure = filesys.make_abspath(\"conf.gro\", _work_dir, check_exists=False)\n",
    "    gmxutil.gmx_insert_n_molecules(box_size, _substance, n_mols, structure, _work_dir)\n",
    "\n",
    "    # Create topology\n",
    "    topology = gmxutil.gmx_make_top([substance_name], [n_mols], itp_list, os.path.dirname(ff_itp), _work_dir, box_name)\n",
    "    logger.info(\"Homogeneous system created successfully.\")\n",
    "    logger.info(\".... Structure file: {}\".format(structure))\n",
    "    logger.info(\".... Topology file: {}\".format(topology))\n",
    "    return os.path.abspath(structure), os.path.abspath(topology)\n"
   ]
  },
  {
   "cell_type": "markdown",
   "metadata": {},
   "source": [
    " ## Assertions"
   ]
  },
  {
   "cell_type": "markdown",
   "metadata": {},
   "source": [
    "Assertions are very useful to detect run-time errors. This can save a lot of time when debugging a piece of code. Check the pre- and post-conditions of a function explicitly, as in the following example:"
   ]
  },
  {
   "cell_type": "code",
   "execution_count": 4,
   "metadata": {
    "collapsed": true,
    "scrolled": true
   },
   "outputs": [],
   "source": [
    "\n",
    "def gmx_insert_n_molecules(initial_box, input_structure, nmol, final_box, log_file):\n",
    "    \"\"\"\n",
    "     [ some docstring ]\n",
    "    \"\"\"\n",
    "    \n",
    "    assert os.path.isfile(initial_box),\\\n",
    "            \"initial box does not exist ({})\".format(initial_box)\n",
    "    assert os.path.isfile(input_structure),\\\n",
    "            \"input structure does not exist ({})\".format(input_structure)\n",
    "    assert isinstance(nmol, int), \"nmol has to be an integer\"\n",
    "    \n",
    "    \n",
    "    # etc. etc. \n",
    "    \n",
    "    return final_box\n"
   ]
  },
  {
   "cell_type": "markdown",
   "metadata": {},
   "source": [
    "## Logging and the .coffe Directory\n",
    "\n",
    "Each coffe function/class that calls subcommands, like gmx ..., or performs expensive tasks, should output detailed logging info and store the stdout/stderr of the subcommands. \n",
    "To facilitate this documentation, you should equip these functions/classes with a ```work_dir='.'``` argument and use the function ```prepare_coffe_work_dir``` from ```coffe.core.filesys```.\n",
    "\n",
    "You will see the command"
   ]
  },
  {
   "cell_type": "code",
   "execution_count": null,
   "metadata": {
    "collapsed": true
   },
   "outputs": [],
   "source": [
    "_work_dir, coffe_dir, logger = prepare_coffe_work_dir(work_dir)"
   ]
  },
  {
   "cell_type": "markdown",
   "metadata": {},
   "source": [
    "in many places in the code.\n",
    "\n",
    "The returned ```_work_dir``` represents the original work_dir as an absolute path (with expanded environment variables).\n",
    "** All relative paths are interpreted relative to the _work_dir!**\n",
    "The returned ```coffe_dir``` is a hidden directory *.coffe* that is created in the work_dir.\n",
    "It contains a log file log.txt and can be used to store temporary data and subcommand output.\n",
    "\n",
    "The returned ```logger``` is an instance of python's ```logging.Logger``` and can be used to write output to the log file and console.\n",
    "It provides different log levels.\n",
    "\n",
    "Example usage:"
   ]
  },
  {
   "cell_type": "code",
   "execution_count": null,
   "metadata": {
    "collapsed": true
   },
   "outputs": [],
   "source": [
    "logger.debug(\"Some information that is purely for debugging.\")\n",
    "logger.info(\"Some information output for the log files.\")\n",
    "logger.warning(\"Warnings are written to the log file and shell.\")\n",
    "logger.error(\"Errors are also written to the shell.\")\n",
    "logger.exception(e) # Log exceptions in a try: ... except: block"
   ]
  },
  {
   "cell_type": "markdown",
   "metadata": {},
   "source": [
    "To log exceptions, you have to call logger.exception in the except block."
   ]
  },
  {
   "cell_type": "code",
   "execution_count": null,
   "metadata": {
    "collapsed": true,
    "scrolled": true
   },
   "outputs": [],
   "source": [
    "try:\n",
    "    assert i==2\n",
    "    assert isinstance(a,str), \"a must be a string.\"\n",
    "    some_risky_function(i,a)\n",
    "except Exception as e:      # (You can also specify the type of exception here)\n",
    "    logger.exception(e)     # logging output\n",
    "    raise e                 # raise exception anyway"
   ]
  },
  {
   "cell_type": "markdown",
   "metadata": {},
   "source": [
    "## Python 2/3 Compatibility\n",
    "\n",
    "We should try to keep the code compatible with Python 2 and 3.\n",
    "This means, that the py.test unit tests should be regularly run with different versions of python (this can be done by using tox, or by manually switching between python versions).\n",
    "\n",
    "Compatibility with python 2 and 3 is enforced mainly in three places:\n",
    "1. By adding the ```from __future__ import ...``` stuff at the beginning of each module.\n",
    "2. By the six module. Six is a python modules that resolves inconsistencies between different Python versions. An example: the configparser module was renamed in Python 3. To resolve this inconsistency import the module as follows: ```from six.moves import configparser```.\n",
    "3. Some inconsistencies are not resolved in six. If you want to implement your own fixes, please put it into *coffe/core/compat.py* and take a look at the examples there.\n"
   ]
  }
 ],
 "metadata": {
  "kernelspec": {
   "display_name": "Python 3",
   "language": "python",
   "name": "python3"
  },
  "language_info": {
   "codemirror_mode": {
    "name": "ipython",
    "version": 3
   },
   "file_extension": ".py",
   "mimetype": "text/x-python",
   "name": "python",
   "nbconvert_exporter": "python",
   "pygments_lexer": "ipython3",
   "version": "3.6.1"
  }
 },
 "nbformat": 4,
 "nbformat_minor": 1
}
