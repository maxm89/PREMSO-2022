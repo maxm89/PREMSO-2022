{
 "cells": [
  {
   "cell_type": "markdown",
   "metadata": {},
   "source": [
    "# Running Amber (sander) Calculations using COFFE\n",
    "\n",
    "\n"
   ]
  },
  {
   "cell_type": "markdown",
   "metadata": {},
   "source": [
    "This tutorial shows how to run amber (sander) calculations in coffe. \n",
    "\n",
    "First, let us (again) enable autoreload:\n",
    "\n",
    "\n",
    "\n"
   ]
  },
  {
   "cell_type": "code",
   "execution_count": 1,
   "metadata": {
    "collapsed": true
   },
   "outputs": [],
   "source": [
    "%reload_ext autoreload"
   ]
  },
  {
   "cell_type": "code",
   "execution_count": 2,
   "metadata": {
    "collapsed": true
   },
   "outputs": [],
   "source": [
    "%autoreload 2"
   ]
  },
  {
   "cell_type": "markdown",
   "metadata": {},
   "source": [
    "The directory contains an two input files defining a cubic box full of butane molecules\n",
    "- the structure inpcrd\n",
    "- the topology prmtop"
   ]
  },
  {
   "cell_type": "markdown",
   "metadata": {},
   "source": [
    "Note that all relative paths are defined wrt. the work_dir.\n",
    "\n",
    "## Running Amber simulations from a single python script\n",
    "### Energy Minimization\n",
    "\n",
    "Now, we can create an instance of AmbCalculation for the energy minimization, using the mdin file that is also in the directory.\n",
    "\n"
   ]
  },
  {
   "cell_type": "code",
   "execution_count": 3,
   "metadata": {
    "collapsed": true
   },
   "outputs": [],
   "source": [
    "from coffe.amb.sim import AmbCalculation\n",
    "import os\n",
    "\n",
    "try:\n",
    "    os.mkdir(\"./output_I\")\n",
    "except:\n",
    "    pass\n",
    "\n",
    "wdir = \"./output_I/emin\"\n",
    "structure = \"../../inpcrd\"\n",
    "topology = \"../../prmtop\"\n",
    "mdin = \"../../em_mdin\"\n",
    "emin = AmbCalculation(structure, topology, mdin, work_dir=wdir, overwrite=True)\n",
    "emin()"
   ]
  },
  {
   "cell_type": "markdown",
   "metadata": {},
   "source": [
    "A look at the log file shows that the calculation is finished."
   ]
  },
  {
   "cell_type": "code",
   "execution_count": 4,
   "metadata": {},
   "outputs": [
    {
     "name": "stdout",
     "output_type": "stream",
     "text": [
      "2018-03-15 14:16:20,845 - INFO - Runs in overwrite mode: Old directory contents were removed.\n",
      "2018-03-15 14:16:20,845 - INFO - Creating AmbCalculation instance with {'overwrite': True, 'mdin_options': {}, 'work_dir': './output_I/emin', 'mdin': '../../em_mdin', 'topology': '../../prmtop', 'structure': '../../inpcrd', 'self': <coffe.amb.sim.AmbCalculation object at 0x110a5bf28>, 'local_variables': {...}}\n",
      "2018-03-15 14:16:20,913 - INFO - Sander Version: 17.0\n",
      "2018-03-15 14:16:20,914 - INFO - Mdin file ../../em_mdin exists.\n",
      "2018-03-15 14:16:20,914 - INFO - Structure file /Users/akraemer/work/coding/coffe/examples/12_running_amber/inpcrd exists.\n",
      "2018-03-15 14:16:20,914 - INFO - Topology file /Users/akraemer/work/coding/coffe/examples/12_running_amber/prmtop exists.\n",
      "2018-03-15 14:16:20,914 - INFO - Running calculation\n",
      "2018-03-15 14:16:36,961 - INFO - Amb calculation finished.\n"
     ]
    }
   ],
   "source": [
    "%%bash\n",
    "tail ./output_I/emin/.coffe/log.txt"
   ]
  },
  {
   "cell_type": "markdown",
   "metadata": {},
   "source": [
    "### NPT Equilibration\n",
    "Let us now use the output configuration to perform an NPT equilibration run"
   ]
  },
  {
   "cell_type": "code",
   "execution_count": 5,
   "metadata": {
    "collapsed": true
   },
   "outputs": [],
   "source": [
    "wdir = \"./output_I/npt\"\n",
    "structure = \"../emin/restrt\"\n",
    "mdin = \"../../npt_mdin\"\n",
    "npt = AmbCalculation(structure, topology, mdin, work_dir=wdir, overwrite=True)\n",
    "npt()"
   ]
  },
  {
   "cell_type": "markdown",
   "metadata": {},
   "source": [
    "A look at the log file shows that the calculation is finished."
   ]
  },
  {
   "cell_type": "code",
   "execution_count": null,
   "metadata": {},
   "outputs": [
    {
     "name": "stdout",
     "output_type": "stream",
     "text": [
      "2018-03-15 14:16:37,025 - INFO - Runs in overwrite mode: Old directory contents were removed.\n",
      "2018-03-15 14:16:37,025 - INFO - Creating AmbCalculation instance with {'overwrite': True, 'mdin_options': {}, 'work_dir': './output_I/npt', 'mdin': '../../npt_mdin', 'topology': '../../prmtop', 'structure': '../emin/restrt', 'self': <coffe.amb.sim.AmbCalculation object at 0x110a5ba90>, 'local_variables': {...}}\n",
      "2018-03-15 14:16:37,088 - INFO - Sander Version: 17.0\n",
      "2018-03-15 14:16:37,089 - INFO - Mdin file ../../npt_mdin exists.\n",
      "2018-03-15 14:16:37,089 - INFO - Structure file /Users/akraemer/work/coding/coffe/examples/12_running_amber/output_I/emin/restrt exists.\n",
      "2018-03-15 14:16:37,089 - INFO - Topology file /Users/akraemer/work/coding/coffe/examples/12_running_amber/prmtop exists.\n",
      "2018-03-15 14:16:37,089 - INFO - Running calculation\n",
      "2018-03-15 14:17:11,279 - INFO - Amb calculation finished.\n"
     ]
    }
   ],
   "source": [
    "%%bash\n",
    "tail ./output_I/npt/.coffe/log.txt"
   ]
  },
  {
   "cell_type": "markdown",
   "metadata": {},
   "source": [
    "### NPT Production\n",
    "Let us now use the output configuration to perform a NPT production run."
   ]
  },
  {
   "cell_type": "code",
   "execution_count": null,
   "metadata": {
    "collapsed": true
   },
   "outputs": [],
   "source": [
    "wdir = \"./output_I/prod\"\n",
    "structure = \"../npt/restrt\"\n",
    "mdin = \"../../prod_mdin\"\n",
    "prod = AmbCalculation(structure, topology, mdin, work_dir=wdir, overwrite=True)\n",
    "prod()"
   ]
  },
  {
   "cell_type": "markdown",
   "metadata": {},
   "source": [
    "A look at the log file shows that the calculation is finished."
   ]
  },
  {
   "cell_type": "code",
   "execution_count": null,
   "metadata": {
    "collapsed": true
   },
   "outputs": [],
   "source": [
    "%%bash\n",
    "tail ./output_I/prod/.coffe/log.txt"
   ]
  },
  {
   "cell_type": "markdown",
   "metadata": {},
   "source": [
    "## Running a simulation from Configuration files\n",
    "We now will run the same simulation from a configuration file"
   ]
  },
  {
   "cell_type": "code",
   "execution_count": null,
   "metadata": {
    "collapsed": true
   },
   "outputs": [],
   "source": [
    "%%bash\n",
    "more ./workflow.cfg"
   ]
  },
  {
   "cell_type": "markdown",
   "metadata": {},
   "source": [
    "All the input parameters, in this case the working directory and the MD input files (relative to work_dir) are defined in this configuration file. The actual simulation calls are now much easier:"
   ]
  },
  {
   "cell_type": "markdown",
   "metadata": {},
   "source": [
    "### Energy Minimization"
   ]
  },
  {
   "cell_type": "code",
   "execution_count": null,
   "metadata": {
    "collapsed": true
   },
   "outputs": [],
   "source": [
    "from coffe.amb.sim import AmbCalculation\n",
    "import os\n",
    "\n",
    "try:\n",
    "    os.mkdir(\"./output_cfg\")\n",
    "except:\n",
    "    pass\n",
    "\n",
    "emin = AmbCalculation(cfg_file=\"workflow.cfg\",section=\"emin\")\n",
    "emin()"
   ]
  },
  {
   "cell_type": "markdown",
   "metadata": {},
   "source": [
    "### NPT Equilibration"
   ]
  },
  {
   "cell_type": "code",
   "execution_count": null,
   "metadata": {
    "collapsed": true
   },
   "outputs": [],
   "source": [
    "npt = AmbCalculation(cfg_file=\"workflow.cfg\",section=\"npt\")\n",
    "npt()"
   ]
  },
  {
   "cell_type": "markdown",
   "metadata": {},
   "source": [
    "### NPT Production"
   ]
  },
  {
   "cell_type": "code",
   "execution_count": null,
   "metadata": {
    "collapsed": true
   },
   "outputs": [],
   "source": [
    "prod = AmbCalculation(cfg_file=\"workflow.cfg\",section=\"prod\")\n",
    "prod()"
   ]
  }
 ],
 "metadata": {
  "kernelspec": {
   "display_name": "Python 3",
   "language": "python",
   "name": "python3"
  },
  "language_info": {
   "codemirror_mode": {
    "name": "ipython",
    "version": 3
   },
   "file_extension": ".py",
   "mimetype": "text/x-python",
   "name": "python",
   "nbconvert_exporter": "python",
   "pygments_lexer": "ipython3",
   "version": "3.6.1"
  }
 },
 "nbformat": 4,
 "nbformat_minor": 2
}
