{
 "cells": [
  {
   "cell_type": "markdown",
   "metadata": {},
   "source": [
    "- using the logging module in a simple and meaningful way\n",
    "- log files in .coffe/log, if work_dir exists\n",
    "- One possibility is to **create a logger instance in prepare_coffe_work_dir and return it alongside the temporary directory**\n",
    "- maybe add a custom sys.excepthook to automatically log exceptions \n",
    "    - ```sys.excepthook = excepthook```\n",
    "    - http://code.activestate.com/recipes/577074-logging-asserts/\n",
    "    - https://stackoverflow.com/questions/5191830/best-way-to-log-a-python-exception"
   ]
  }
 ],
 "metadata": {
  "kernelspec": {
   "display_name": "Python 3",
   "language": "python",
   "name": "python3"
  },
  "language_info": {
   "codemirror_mode": {
    "name": "ipython",
    "version": 3
   },
   "file_extension": ".py",
   "mimetype": "text/x-python",
   "name": "python",
   "nbconvert_exporter": "python",
   "pygments_lexer": "ipython3",
   "version": "3.6.1"
  }
 },
 "nbformat": 4,
 "nbformat_minor": 2
}
