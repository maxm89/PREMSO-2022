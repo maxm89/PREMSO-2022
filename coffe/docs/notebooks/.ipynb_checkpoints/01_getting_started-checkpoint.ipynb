{
 "cells": [
  {
   "cell_type": "markdown",
   "metadata": {},
   "source": [
    "# Getting Started\n",
    "- Required software includes: python3, gromacs\n",
    "\n",
    "## Create Gitlab Account\n",
    "- Create a free gitlab account at www.gitlab.com\n",
    "- Create a fork. Or [tell me your gitlab name](mailto:kraemer.research@gmail.com), so I can invite you to contribute.\n",
    "- Deploy your local machine's ssh key in gitlab, so you can seemlessly push and pull. For more info see: https://docs.gitlab.com/ce/ssh/README.html (you can ask Martin or me for help here).\n",
    "\n",
    "## Clone Repository and Install\n",
    "- As soon as you have been added as a developer, pull the code from gitlab\n",
    "```\n",
    "git clone git@gitlab.com:Olllom/coffe.git\n",
    "```\n",
    "- If needed, load the python3 module (i.e. at the HBRS cluster: ```module load python3/default ```). For our cluster, the following commands should be executed with python3 (python2 is not installed into the package manager currently.)\n",
    "\n",
    "- Install coffe by typing the following within the newly installed coffe directory:\n",
    "```\n",
    "python3 setup.py develop --user\n",
    "```\n",
    "- Run tests to make sure that everything works:\n",
    "```\n",
    "python3 setup.py test\n",
    "```\n",
    "- Check if the coffe script can be executed:\n",
    "```\n",
    "which coffe\n",
    "coffe --help\n",
    "```\n",
    "If the coffe command cannot be found, add its location to your PATH variable manually. The location of the installed script is shown during the installation (\"Installing coffe script to ...\").\n",
    "- Source COFFERC.sh to enable bash autocompletion\n",
    "```\n",
    "source COFFERC.sh\n",
    "```\n",
    "If COFFERC.sh is not sourced, autocompletion for the coffe command line tools will not work. Better source it directly in your ~/.bashrc:\n",
    "```\n",
    "source /path/to/your/coffe/COFFERC.sh\n",
    "```"
   ]
  },
  {
   "cell_type": "markdown",
   "metadata": {},
   "source": [
    "# Using the code\n",
    "Take a look at the examples directory to get a feeling for the usage of the libraries functions and methods."
   ]
  }
 ],
 "metadata": {
  "kernelspec": {
   "display_name": "Python 3",
   "language": "python",
   "name": "python3"
  },
  "language_info": {
   "codemirror_mode": {
    "name": "ipython",
    "version": 3
   },
   "file_extension": ".py",
   "mimetype": "text/x-python",
   "name": "python",
   "nbconvert_exporter": "python",
   "pygments_lexer": "ipython3",
   "version": "3.6.1"
  }
 },
 "nbformat": 4,
 "nbformat_minor": 2
}
