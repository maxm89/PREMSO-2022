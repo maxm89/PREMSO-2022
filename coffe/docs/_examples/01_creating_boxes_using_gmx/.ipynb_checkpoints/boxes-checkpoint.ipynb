{
 "cells": [
  {
   "cell_type": "markdown",
   "metadata": {},
   "source": [
    "\n",
    "# A General Note on the Tutorials\n",
    "\n",
    "Before going through the tutorials, make sure coffe is installed properly. Instructions can be found under Getting Started.\n",
    "\n",
    "Instead of running the tutorials in-place, you may want to start by copying the example folder to a custom location.\n",
    "\n",
    "In order to record instant changes to the code, we enable autoreload:"
   ]
  },
  {
   "cell_type": "code",
   "execution_count": 44,
   "metadata": {
    "collapsed": true
   },
   "outputs": [],
   "source": [
    "%reload_ext autoreload"
   ]
  },
  {
   "cell_type": "code",
   "execution_count": 45,
   "metadata": {
    "collapsed": true
   },
   "outputs": [],
   "source": [
    "%autoreload 2"
   ]
  },
  {
   "cell_type": "markdown",
   "metadata": {},
   "source": [
    "\n",
    "\n",
    "# Creating Boxes using COFFE and Gromacs\n",
    "\n",
    "COFFE can be used to create simulation boxes in Gromacs.\n",
    "These functions are implemented in coffe.gmx.boxes.\n",
    "\n",
    "Let us start with the simple example of a homogeneous system.\n",
    "\n",
    "## First Example: Homogeneous Hexadecane System\n",
    "At first, we want to create a homogeneous box that contains 126 hexadecane molecules. \n",
    "The required input files can be found in this directory:\n",
    "\n",
    "- a pdb file *c16.pdb* describing the structure of a single hexadecane molecule,\n",
    "- a modified version of the CHARMM force field in the directory *charmm36-andi*.\n",
    "\n",
    "There is a first thing to note here. The actual force field directory *charmm36-andi.ff* is wrapped by another directory *(charmm36-andi)*, to make sure that it is the only force field directory in the folder. This property is required by some coffe functions.\n",
    "\n",
    "Using these two inputs, we can now generate a simulation box.\n"
   ]
  },
  {
   "cell_type": "markdown",
   "metadata": {},
   "source": [
    "### Creating a Homogeneous System from Python Code\n",
    "To create the box directly from python code, we have to import the python module.\n"
   ]
  },
  {
   "cell_type": "code",
   "execution_count": 46,
   "metadata": {
    "collapsed": true
   },
   "outputs": [],
   "source": [
    "from coffe.gmx.boxes import gmx_mkbox_homogeneous"
   ]
  },
  {
   "cell_type": "markdown",
   "metadata": {},
   "source": [
    "As can be seen from the documentation of this function, it returns a structure file and a topology file. \n",
    "\n",
    "As input arguments, it requires the input structure of a single molecule, the number of molecules, and the box size (in nm). There are some more optional arguments. The forcefield can be specified using ```gmx_ff``` (for built-in Gromacs force fields) or ```ff_dir``` (for custom force fields, as in our case).\n",
    "\n",
    "The box can now be created via\n"
   ]
  },
  {
   "cell_type": "code",
   "execution_count": 47,
   "metadata": {
    "collapsed": true
   },
   "outputs": [],
   "source": [
    "structure, topology = gmx_mkbox_homogeneous(\n",
    "    substance=\"../c16.pdb\", n_mols=126, box_size=5.0, \n",
    "    ff_dir=\"../charmm36-andi/charmm36-andi.ff\",\n",
    "    work_dir=\"./output_I\"\n",
    ")"
   ]
  },
  {
   "cell_type": "markdown",
   "metadata": {},
   "source": [
    "The argument ```work_dir``` specifies the working directory for coffe.\n"
   ]
  },
  {
   "cell_type": "markdown",
   "metadata": {},
   "source": [
    "#### Output\n",
    "Let us now take a look at the output directory.\n"
   ]
  },
  {
   "cell_type": "code",
   "execution_count": 48,
   "metadata": {},
   "outputs": [
    {
     "name": "stdout",
     "output_type": "stream",
     "text": [
      "total 600\n",
      "drwxr-xr-x  10 akraemer  staff     320 13 Nov 10:49 ..\n",
      "-rw-r--r--   1 akraemer  staff   15798 13 Nov 10:49 include_topology.itp\n",
      "drwxr-xr-x   5 akraemer  staff     160 13 Nov 10:49 .coffe\n",
      "-rw-r--r--   1 akraemer  staff  283589 13 Nov 10:49 conf.gro\n",
      "drwxr-xr-x   6 akraemer  staff     192 13 Nov 10:49 .\n",
      "-rw-r--r--   1 akraemer  staff     407 13 Nov 10:49 topol.top\n"
     ]
    }
   ],
   "source": [
    "%%bash \n",
    "ls -lrta output_I"
   ]
  },
  {
   "cell_type": "markdown",
   "metadata": {},
   "source": [
    "The code created \n",
    "- an input topology *include_topology.itp* that defines the hexadecane force field,\n",
    "- a topology file *topol.top* that includes the itp file and the force field,\n",
    "- a structure file *conf.gro* that defines the simulation box.\n",
    "\n",
    "These files can be used directly to setup a gromacs simulation.\n",
    "\n",
    "Moreover, there is a hidden directory *.coffe*, which will now be discussed in greater depth."
   ]
  },
  {
   "cell_type": "code",
   "execution_count": 49,
   "metadata": {},
   "outputs": [
    {
     "name": "stdout",
     "output_type": "stream",
     "text": [
      "total 72\n",
      "-rw-r--r--  1 akraemer  staff  22965 13 Nov 10:49 Mon-Nov-13-10:49:52-2017-pdb2gmx.out\n",
      "drwxr-xr-x  5 akraemer  staff    160 13 Nov 10:49 .\n",
      "-rw-r--r--  1 akraemer  staff  11523 13 Nov 10:49 Mon-Nov-13-10:49:52-2017-insert-molecules.out\n",
      "drwxr-xr-x  6 akraemer  staff    192 13 Nov 10:49 ..\n",
      "-rw-r--r--  1 akraemer  staff   1425 13 Nov 10:49 log.txt\n"
     ]
    }
   ],
   "source": [
    "%%bash\n",
    "ls -lrta output_I/.coffe"
   ]
  },
  {
   "cell_type": "markdown",
   "metadata": {},
   "source": [
    "#### The *.coffe* Directory\n",
    "The .coffe directory contains temporary files, raw output and logging.\n",
    "It is automatically created for each working directory.\n",
    "\n",
    "The file *log.txt* contains detailed logging commands.\n"
   ]
  },
  {
   "cell_type": "code",
   "execution_count": 50,
   "metadata": {},
   "outputs": [
    {
     "name": "stdout",
     "output_type": "stream",
     "text": [
      "2017-11-13 10:49:52,780 - INFO - Creating a homogeneous box with {'water': 'none', 'box_name': 'box', 'substance_name': 'substance', 'work_dir': './output_I', 'include_topology': None, 'create_itp': True, 'gmx_ff': None, 'ff_dir': '../charmm36-andi/charmm36-andi.ff', 'box_size': 5.0, 'n_mols': 126, 'substance': '../c16.pdb'}.\n",
      "2017-11-13 10:49:52,780 - INFO - Creating include topology (.itp) from pdb file.\n",
      "2017-11-13 10:49:52,987 - INFO - Removing position restraints.\n",
      "2017-11-13 10:49:52,989 - INFO - Itp file created: /Users/akraemer/work/coding/coffe/examples/01_creating_boxes_using_gmx/output_I/include_topology.itp\n",
      "2017-11-13 10:49:52,990 - INFO - Inserting 126 molecules into initial box 5.0.\n",
      "2017-11-13 10:49:53,556 - INFO - Box created: /Users/akraemer/work/coding/coffe/examples/01_creating_boxes_using_gmx/output_I/conf.gro. Final vdW scaling: 0.3648\n",
      "2017-11-13 10:49:53,557 - INFO - Making topology file.\n",
      "2017-11-13 10:49:53,557 - INFO - Created topology file /Users/akraemer/work/coding/coffe/examples/01_creating_boxes_using_gmx/output_I/topol.top\n",
      "2017-11-13 10:49:53,558 - INFO - Homogeneous system created successfully.\n",
      "2017-11-13 10:49:53,558 - INFO - .... Structure file: /Users/akraemer/work/coding/coffe/examples/01_creating_boxes_using_gmx/output_I/conf.gro\n",
      "2017-11-13 10:49:53,558 - INFO - .... Topology file: /Users/akraemer/work/coding/coffe/examples/01_creating_boxes_using_gmx/output_I/topol.top\n"
     ]
    }
   ],
   "source": [
    "%%bash\n",
    "more output_I/.coffe/log.txt"
   ]
  },
  {
   "cell_type": "markdown",
   "metadata": {},
   "source": [
    "The .out and .err files contain stdout and stderr of subcommands."
   ]
  },
  {
   "cell_type": "markdown",
   "metadata": {},
   "source": [
    "### Creating a Homogeneous System from Configuration Files\n",
    "\n",
    "In many situations, configuration files are a useful means to store arguments for simulations.\n",
    "\n",
    "Instead of passing all arguments to a function, we can as well store them in the section of a configuration file. \n",
    "\n",
    "An examplary configuration file can be found in *hexa_126.cfg*.\n"
   ]
  },
  {
   "cell_type": "code",
   "execution_count": 51,
   "metadata": {},
   "outputs": [
    {
     "name": "stdout",
     "output_type": "stream",
     "text": [
      "[my_box]\n",
      "work_dir:\t\"./output_II\"\n",
      "substance:\t\"../c16.pdb\"\n",
      "n_mols:\t\t126\n",
      "box_size:\t5.0\n",
      "ff_dir:\t\t\"../charmm36-andi/charmm36-andi.ff\""
     ]
    }
   ],
   "source": [
    "%%bash\n",
    "more hexa_126.cfg"
   ]
  },
  {
   "cell_type": "markdown",
   "metadata": {},
   "source": [
    "Note that all parameters have to be given in exactly the same format as in the argument list of the function.\n",
    "\n",
    "The function can now be called with two keyword arguments \n",
    "```cfg_file```\n",
    "and \n",
    "```section```."
   ]
  },
  {
   "cell_type": "code",
   "execution_count": 52,
   "metadata": {
    "collapsed": true
   },
   "outputs": [],
   "source": [
    "structure, topology = gmx_mkbox_homogeneous(\n",
    "    cfg_file=\"hexa_126.cfg\", section=\"my_box\")"
   ]
  },
  {
   "cell_type": "markdown",
   "metadata": {},
   "source": [
    "Note that this functionality is supported by the decorator  ```args_from_configfile```. If you as a developer want to use this decorator yourself, please make sure that all arguments are well tested. Otherwise, the error messages can easily become very complex."
   ]
  },
  {
   "cell_type": "code",
   "execution_count": 53,
   "metadata": {},
   "outputs": [
    {
     "name": "stdout",
     "output_type": "stream",
     "text": [
      "2017-11-13 10:49:53,926 - INFO - Creating a homogeneous box with {'water': 'none', 'box_name': 'box', 'substance_name': 'substance', 'work_dir': './output_II', 'include_topology': None, 'create_itp': True, 'gmx_ff': None, 'ff_dir': '../charmm36-andi/charmm36-andi.ff', 'box_size': 5.0, 'n_mols': 126, 'substance': '../c16.pdb'}.\n",
      "2017-11-13 10:49:53,926 - INFO - Creating include topology (.itp) from pdb file.\n",
      "2017-11-13 10:49:54,133 - INFO - Removing position restraints.\n",
      "2017-11-13 10:49:54,135 - INFO - Itp file created: /Users/akraemer/work/coding/coffe/examples/01_creating_boxes_using_gmx/output_II/include_topology.itp\n",
      "2017-11-13 10:49:54,136 - INFO - Inserting 126 molecules into initial box 5.0.\n",
      "2017-11-13 10:49:54,694 - INFO - Box created: /Users/akraemer/work/coding/coffe/examples/01_creating_boxes_using_gmx/output_II/conf.gro. Final vdW scaling: 0.3648\n",
      "2017-11-13 10:49:54,694 - INFO - Making topology file.\n",
      "2017-11-13 10:49:54,695 - INFO - Created topology file /Users/akraemer/work/coding/coffe/examples/01_creating_boxes_using_gmx/output_II/topol.top\n",
      "2017-11-13 10:49:54,695 - INFO - Homogeneous system created successfully.\n",
      "2017-11-13 10:49:54,695 - INFO - .... Structure file: /Users/akraemer/work/coding/coffe/examples/01_creating_boxes_using_gmx/output_II/conf.gro\n",
      "2017-11-13 10:49:54,695 - INFO - .... Topology file: /Users/akraemer/work/coding/coffe/examples/01_creating_boxes_using_gmx/output_II/topol.top\n"
     ]
    }
   ],
   "source": [
    "%%bash \n",
    "more ./output_II/.coffe/log.txt"
   ]
  },
  {
   "cell_type": "markdown",
   "metadata": {},
   "source": [
    "### Creating a Homogeneous System via the Command Line Interface\n",
    "\n"
   ]
  },
  {
   "cell_type": "markdown",
   "metadata": {},
   "source": [
    "Finally, the coffe command line interface can execute the box-generating functions via subcommands.\n",
    "\n",
    "The equivalent command line call is:\n",
    "\n",
    "** coffe gmx boxhomo hexa_126.cfg my_box**\n",
    "\n",
    "To see other subcommands, type\n",
    "** coffe --help **\n",
    "on the command line."
   ]
  }
 ],
 "metadata": {
  "kernelspec": {
   "display_name": "Python 3",
   "language": "python",
   "name": "python3"
  },
  "language_info": {
   "codemirror_mode": {
    "name": "ipython",
    "version": 3
   },
   "file_extension": ".py",
   "mimetype": "text/x-python",
   "name": "python",
   "nbconvert_exporter": "python",
   "pygments_lexer": "ipython3",
   "version": "3.6.1"
  }
 },
 "nbformat": 4,
 "nbformat_minor": 2
}
