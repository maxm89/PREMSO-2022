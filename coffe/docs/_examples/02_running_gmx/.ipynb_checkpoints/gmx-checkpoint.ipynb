{
 "cells": [
  {
   "cell_type": "markdown",
   "metadata": {},
   "source": [
    "# Running Gromacs Calculations using COFFE\n",
    "\n",
    "\n"
   ]
  },
  {
   "cell_type": "markdown",
   "metadata": {},
   "source": [
    "This tutorial shows how to run gromacs calculations in coffe. We will start by creating a simulation box. \n",
    "\n",
    "First, let us (again) enable autoreload:\n",
    "\n",
    "\n",
    "\n"
   ]
  },
  {
   "cell_type": "code",
   "execution_count": 31,
   "metadata": {
    "collapsed": true
   },
   "outputs": [],
   "source": [
    "%reload_ext autoreload"
   ]
  },
  {
   "cell_type": "code",
   "execution_count": 32,
   "metadata": {
    "collapsed": true
   },
   "outputs": [],
   "source": [
    "%autoreload 2"
   ]
  },
  {
   "cell_type": "markdown",
   "metadata": {},
   "source": [
    "The directory contains two input files defining a single cyclohexane molecule\n",
    "- the structure chex.gro\n",
    "- the topology chex.itp\n",
    "\n",
    "Let's first create a box. \n",
    "\n",
    "## Defining the box"
   ]
  },
  {
   "cell_type": "code",
   "execution_count": 33,
   "metadata": {},
   "outputs": [],
   "source": [
    "# TODO(AK): change relative paths according to work_dir \n",
    "# (new convention about relative paths)\n",
    "from coffe.gmx.boxes import gmx_mkbox_homogeneous\n",
    "\n",
    "import os\n",
    "try:\n",
    "    os.mkdir(\"./output_I\")\n",
    "except:\n",
    "    pass\n",
    "\n",
    "structure, topology = gmx_mkbox_homogeneous(\"../../chex.gro\", 216, 4.0, \n",
    "                                            work_dir=\"output_I/box\", \n",
    "                                            gmx_ff=\"gromos43a1\", \n",
    "                                            include_topology = \"../../chex.itp\",\n",
    "                                            substance_name=\"CHX\"\n",
    "                                           )\n"
   ]
  },
  {
   "cell_type": "markdown",
   "metadata": {},
   "source": [
    "Note that all relative paths are defined wrt. the work_dir.\n",
    "\n",
    "## Energy Minimization\n",
    "\n",
    "Now, we can create an instance of GmxCalculation for the energy minimization, using the mdp file that is also in the directory.\n",
    "\n"
   ]
  },
  {
   "cell_type": "code",
   "execution_count": 34,
   "metadata": {},
   "outputs": [],
   "source": [
    "from coffe.gmx.sim import GmxCalculation\n",
    "import os\n",
    "\n",
    "emin = GmxCalculation(structure, topology, \"../../em_steep.mdp\", work_dir=\"./output_I/emin\")\n",
    "emin()"
   ]
  },
  {
   "cell_type": "markdown",
   "metadata": {},
   "source": [
    "A look at the log file shows that the calculation is finished."
   ]
  },
  {
   "cell_type": "code",
   "execution_count": 35,
   "metadata": {},
   "outputs": [
    {
     "name": "stdout",
     "output_type": "stream",
     "text": [
      "2017-11-13 16:15:27,567 - INFO - Creating GmxCalculation instance with {'overwrite': False, 'mdp_options': {}, 'work_dir': './output_I/emin', 'mdp_file': '../../em_steep.mdp', 'topology': '/Users/akraemer/work/coding/coffe/examples/02_running_gmx/output_I/box/topol.top', 'structure': '/Users/akraemer/work/coding/coffe/examples/02_running_gmx/output_I/box/conf.gro', 'self': <coffe.gmx.sim.GmxCalculation object at 0x111d6c160>, 'local_variables': {...}}\n",
      "2017-11-13 16:15:27,568 - INFO - Structure file /Users/akraemer/work/coding/coffe/examples/02_running_gmx/output_I/box/conf.gro exists.\n",
      "2017-11-13 16:15:27,568 - INFO - Starting Gromacs preprocessor.\n",
      "2017-11-13 16:15:27,630 - INFO - Running calculation\n",
      "2017-11-13 16:15:28,497 - INFO - Gmx calculation finished.\n"
     ]
    }
   ],
   "source": [
    "%%bash\n",
    "tail ./output_I/emin/.coffe/log.txt"
   ]
  },
  {
   "cell_type": "markdown",
   "metadata": {},
   "source": [
    "Using the *observables* module we can now read and plot the potential energy."
   ]
  },
  {
   "cell_type": "code",
   "execution_count": 36,
   "metadata": {},
   "outputs": [],
   "source": [
    "from coffe.gmx import observables\n",
    "pot = observables.gmx_calc_energy(emin.work_dir, [\"Potential\"])"
   ]
  },
  {
   "cell_type": "code",
   "execution_count": 37,
   "metadata": {},
   "outputs": [
    {
     "data": {
      "text/plain": [
       "[<matplotlib.lines.Line2D at 0x113565b38>]"
      ]
     },
     "execution_count": 37,
     "metadata": {},
     "output_type": "execute_result"
    },
    {
     "data": {
      "image/png": "[encoded data removed]",
      "text/plain": [
       "<matplotlib.figure.Figure at 0x113565160>"
      ]
     },
     "metadata": {},
     "output_type": "display_data"
    }
   ],
   "source": [
    "%matplotlib inline\n",
    "import matplotlib.pyplot as plt\n",
    "fig, ax = plt.subplots()\n",
    "ax.set_xlabel(\"Step\")\n",
    "ax.set_ylabel(r\"Potential $U$ / kJ $\\mathrm{mol}^{-1}$\")\n",
    "ax.plot(pot[:,0], pot[:,1], lw=2)"
   ]
  },
  {
   "cell_type": "markdown",
   "metadata": {},
   "source": [
    "## NVT Simulation\n",
    "Let us now use the output configuration to perform a NVT simulation."
   ]
  },
  {
   "cell_type": "code",
   "execution_count": 38,
   "metadata": {},
   "outputs": [],
   "source": [
    "mdp_file = \"../../nvt.mdp\"\n",
    "structure = \"../emin/confout.gro\"\n",
    "nvt = GmxCalculation(structure, topology, mdp_file, work_dir=\"./output_I/nvt\")\n",
    "nvt()"
   ]
  },
  {
   "cell_type": "markdown",
   "metadata": {},
   "source": [
    "... and calculate the potential energy and temperature.\n"
   ]
  },
  {
   "cell_type": "code",
   "execution_count": 39,
   "metadata": {
    "collapsed": true
   },
   "outputs": [],
   "source": [
    "\n",
    "pot_t = observables.gmx_calc_energy(nvt.work_dir, [\"Potential\", \"Temperature\"])\n"
   ]
  },
  {
   "cell_type": "markdown",
   "metadata": {},
   "source": [
    "Finally, some more plots:"
   ]
  },
  {
   "cell_type": "code",
   "execution_count": 40,
   "metadata": {},
   "outputs": [
    {
     "data": {
      "text/plain": [
       "[<matplotlib.lines.Line2D at 0x1147611d0>]"
      ]
     },
     "execution_count": 40,
     "metadata": {},
     "output_type": "execute_result"
    },
    {
     "data": {
      "image/png": "[encoded data removed]",
      "text/plain": [
       "<matplotlib.figure.Figure at 0x11484e048>"
      ]
     },
     "metadata": {},
     "output_type": "display_data"
    }
   ],
   "source": [
    "%matplotlib inline\n",
    "import matplotlib.pyplot as plt\n",
    "fig, ax = plt.subplots()\n",
    "ax.set_xlabel(\"Time / ps\")\n",
    "ax.set_ylabel(r\"Potential $U$ / kJ $\\mathrm{mol}^{-1}$\")\n",
    "ax.plot(pot_t[:,0], pot_t[:,1], lw=2)"
   ]
  },
  {
   "cell_type": "code",
   "execution_count": 41,
   "metadata": {},
   "outputs": [
    {
     "data": {
      "text/plain": [
       "[<matplotlib.lines.Line2D at 0x1152ff470>]"
      ]
     },
     "execution_count": 41,
     "metadata": {},
     "output_type": "execute_result"
    },
    {
     "data": {
      "image/png": "[encoded data removed]",
      "text/plain": [
       "<matplotlib.figure.Figure at 0x1152ffda0>"
      ]
     },
     "metadata": {},
     "output_type": "display_data"
    }
   ],
   "source": [
    "%matplotlib inline\n",
    "import matplotlib.pyplot as plt\n",
    "fig, ax = plt.subplots()\n",
    "ax.set_xlabel(\"Time / ps\")\n",
    "ax.set_ylabel(r\"Temperature $T$ / K\")\n",
    "ax.plot(pot_t[:,0], pot_t[:,2], lw=2)"
   ]
  }
 ],
 "metadata": {
  "kernelspec": {
   "display_name": "Python 3",
   "language": "python",
   "name": "python3"
  },
  "language_info": {
   "codemirror_mode": {
    "name": "ipython",
    "version": 3
   },
   "file_extension": ".py",
   "mimetype": "text/x-python",
   "name": "python",
   "nbconvert_exporter": "python",
   "pygments_lexer": "ipython3",
   "version": "3.6.1"
  }
 },
 "nbformat": 4,
 "nbformat_minor": 2
}
