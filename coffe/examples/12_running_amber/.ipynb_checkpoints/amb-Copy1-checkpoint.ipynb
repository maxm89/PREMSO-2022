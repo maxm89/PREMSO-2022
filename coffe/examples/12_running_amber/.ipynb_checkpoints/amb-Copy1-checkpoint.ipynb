{
 "cells": [
  {
   "cell_type": "markdown",
   "metadata": {},
   "source": [
    "# Running Amber (sander) Calculations using COFFE\n",
    "\n",
    "\n"
   ]
  },
  {
   "cell_type": "markdown",
   "metadata": {},
   "source": [
    "This tutorial shows how to run amber (sander) calculations in coffe. \n",
    "\n",
    "First, let us (again) enable autoreload:\n",
    "\n",
    "\n",
    "\n"
   ]
  },
  {
   "cell_type": "code",
   "execution_count": 31,
   "metadata": {
    "collapsed": true
   },
   "outputs": [],
   "source": [
    "%reload_ext autoreload"
   ]
  },
  {
   "cell_type": "code",
   "execution_count": 32,
   "metadata": {
    "collapsed": true
   },
   "outputs": [],
   "source": [
    "%autoreload 2"
   ]
  },
  {
   "cell_type": "markdown",
   "metadata": {},
   "source": [
    "The directory contains an two input files defining a cubic box full of butane molecules\n",
    "- the structure inpcrd\n",
    "- the topology prmtop"
   ]
  },
  {
   "cell_type": "markdown",
   "metadata": {},
   "source": [
    "Note that all relative paths are defined wrt. the work_dir.\n",
    "\n",
    "## Energy Minimization\n",
    "\n",
    "Now, we can create an instance of AmbCalculation for the energy minimization, using the mdin file that is also in the directory.\n",
    "\n"
   ]
  },
  {
   "cell_type": "code",
   "execution_count": 9,
   "metadata": {},
   "outputs": [
    {
     "data": {
      "text/plain": [
       "'/home/mschen3m/anaconda3/bin/python'"
      ]
     },
     "execution_count": 9,
     "metadata": {},
     "output_type": "execute_result"
    }
   ],
   "source": [
    "import sys\n",
    "sys.executable"
   ]
  },
  {
   "cell_type": "code",
   "execution_count": 11,
   "metadata": {},
   "outputs": [],
   "source": [
    "from coffe.amb.sim import AmbCalculation\n",
    "import os\n",
    "\n",
    "try:\n",
    "    os.mkdir(\"./output_I\")\n",
    "except:\n",
    "    pass\n",
    "\n",
    "structure = \"../../inpcrd\"\n",
    "topology = \"../../prmtop\"\n",
    "emin = AmbCalculation(structure, topology, \"../../em_mdin\", work_dir=\"./output_I/emin\")\n",
    "emin()"
   ]
  },
  {
   "cell_type": "markdown",
   "metadata": {},
   "source": [
    "A look at the log file shows that the calculation is finished."
   ]
  },
  {
   "cell_type": "code",
   "execution_count": 12,
   "metadata": {},
   "outputs": [
    {
     "name": "stdout",
     "output_type": "stream",
     "text": [
      "2017-11-30 19:05:09,781 - INFO - Creating AmbCalculation instance with {'overwrite': False, 'mdin_options': {}, 'work_dir': './output_I/emin', 'mdin': '../../em_mdin', 'topology': '../../prmtop', 'structure': '../../inpcrd', 'self': <coffe.amb.sim.AmbCalculation object at 0x7f01cc2e6940>, 'local_variables': {...}}\n",
      "2017-11-30 19:05:10,282 - INFO - Sander Version: 17.0\n",
      "2017-11-30 19:05:10,283 - INFO - Structure file ../../inpcrd does not exist upon construction.\n",
      "2017-11-30 19:05:10,283 - INFO - Topology file ../../prmtop does not exist upon construction.\n",
      "2017-11-30 19:05:10,283 - INFO - Running calculation\n",
      "2017-11-30 19:05:25,576 - INFO - Amb calculation finished.\n"
     ]
    }
   ],
   "source": [
    "%%bash\n",
    "tail ./output_I/emin/.coffe/log.txt"
   ]
  },
  {
   "cell_type": "markdown",
   "metadata": {},
   "source": [
    "## NVT Simulation\n",
    "Let us now use the output configuration to perform a NVT simulation."
   ]
  },
  {
   "cell_type": "code",
   "execution_count": 38,
   "metadata": {
    "collapsed": true
   },
   "outputs": [],
   "source": [
    "mdp_file = \"../../nvt.mdp\"\n",
    "structure = \"../emin/confout.gro\"\n",
    "nvt = GmxCalculation(structure, topology, mdp_file, work_dir=\"./output_I/nvt\")\n",
    "nvt()"
   ]
  },
  {
   "cell_type": "markdown",
   "metadata": {},
   "source": [
    "... and calculate the potential energy and temperature.\n"
   ]
  },
  {
   "cell_type": "code",
   "execution_count": 39,
   "metadata": {
    "collapsed": true
   },
   "outputs": [],
   "source": [
    "\n",
    "pot_t = observables.gmx_calc_energy(nvt.work_dir, [\"Potential\", \"Temperature\"])\n"
   ]
  }
 ],
 "metadata": {
  "kernelspec": {
   "display_name": "Python 3",
   "language": "python",
   "name": "python3"
  },
  "language_info": {
   "codemirror_mode": {
    "name": "ipython",
    "version": 3
   },
   "file_extension": ".py",
   "mimetype": "text/x-python",
   "name": "python",
   "nbconvert_exporter": "python",
   "pygments_lexer": "ipython3",
   "version": "3.6.3"
  }
 },
 "nbformat": 4,
 "nbformat_minor": 2
}
