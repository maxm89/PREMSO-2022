{
 "cells": [
  {
   "cell_type": "markdown",
   "metadata": {},
   "source": [
    "Should we consider to write an abstract simulation class using a custom metaclass or the ABCMeta framework?\n",
    "\n",
    "## First, what can ABCMeta do?\n",
    "\n",
    "- We can use the ``` abstractmethod``` decorator to mark methods as abstract. This will prevent instantiation of classes, unless all abstract methods are overriden.\n",
    "- We can implement a classmethod ```__subclasshook__``` to override the behavior of the built-ins ```issubclass``` and ```isinstance```"
   ]
  },
  {
   "cell_type": "code",
   "execution_count": 69,
   "metadata": {},
   "outputs": [],
   "source": [
    "import abc\n",
    "\n",
    "class Simulation(metaclass=abc.ABCMeta):\n",
    "    @abc.abstractmethod\n",
    "    def __call__(self): pass\n",
    "    \n",
    "    @classmethod\n",
    "    def __subclasshook__(cls, C):\n",
    "        if cls is Simulation:\n",
    "            if any(\"__call__\" in B.__dict__ for B in C.__mro__):\n",
    "                args = inspect.getfullargspec(C.__call__)[0]\n",
    "                if args == ['self']:\n",
    "                    return True\n",
    "        return NotImplemented\n",
    "    \n",
    "    def some_implemented_method(self):\n",
    "        print(\"Hey\")\n",
    "    \n",
    "   "
   ]
  },
  {
   "cell_type": "markdown",
   "metadata": {},
   "source": [
    "\n",
    "## Abstract Methods\n",
    "---\n",
    "Since ```Simulation``` has an abstract method ```__call__```, we can not instantiate it:"
   ]
  },
  {
   "cell_type": "code",
   "execution_count": 70,
   "metadata": {},
   "outputs": [
    {
     "ename": "TypeError",
     "evalue": "Can't instantiate abstract class Simulation with abstract methods __call__",
     "output_type": "error",
     "traceback": [
      "\u001b[0;31m---------------------------------------------------------------------------\u001b[0m",
      "\u001b[0;31mTypeError\u001b[0m                                 Traceback (most recent call last)",
      "\u001b[0;32m<ipython-input-70-a3ab6a40c0b1>\u001b[0m in \u001b[0;36m<module>\u001b[0;34m()\u001b[0m\n\u001b[0;32m----> 1\u001b[0;31m \u001b[0mSimulation\u001b[0m\u001b[0;34m(\u001b[0m\u001b[0;34m)\u001b[0m\u001b[0;34m\u001b[0m\u001b[0m\n\u001b[0m",
      "\u001b[0;31mTypeError\u001b[0m: Can't instantiate abstract class Simulation with abstract methods __call__"
     ]
    }
   ],
   "source": [
    "Simulation()"
   ]
  },
  {
   "cell_type": "markdown",
   "metadata": {},
   "source": [
    "Let's define ```__call__``` in a subclass:\n"
   ]
  },
  {
   "cell_type": "code",
   "execution_count": 71,
   "metadata": {},
   "outputs": [
    {
     "data": {
      "text/plain": [
       "<__main__.SimA at 0x10f5f89e8>"
      ]
     },
     "execution_count": 71,
     "metadata": {},
     "output_type": "execute_result"
    }
   ],
   "source": [
    "class SimA(Simulation):\n",
    "    def __call__(self, arg):\n",
    "        pass\n",
    "\n",
    "SimA()"
   ]
  },
  {
   "cell_type": "markdown",
   "metadata": {},
   "source": [
    "Now, instantiation works.\n",
    "Note that the @abstractclass decorator does not enforce a signature."
   ]
  },
  {
   "cell_type": "markdown",
   "metadata": {},
   "source": [
    "## Subclasshook\n",
    "---\n",
    "With the subclasshook the *isinstance* and *issubclass* methods can be bound to something else than inheritance.\n",
    "\n",
    "For example, we could check if a class defines an interface. The subclasshook above checks if a class has a call function that takes only self as an argument.\n",
    "\n",
    "Let's define two classes, SimB and SimC, one of which implements the interface. Note, how none of them is derived from Simulation directly."
   ]
  },
  {
   "cell_type": "code",
   "execution_count": 72,
   "metadata": {
    "collapsed": true
   },
   "outputs": [],
   "source": [
    "\n",
    "class SimB(object):\n",
    "    def __call__(self):\n",
    "        pass\n",
    "\n",
    "class SimC(object):\n",
    "    def __call__(self, arg):\n",
    "        pass\n",
    "    \n",
    "simb = SimB()\n",
    "simc = SimC()\n",
    "\n"
   ]
  },
  {
   "cell_type": "markdown",
   "metadata": {},
   "source": [
    "Now, let's see the effects:"
   ]
  },
  {
   "cell_type": "code",
   "execution_count": 73,
   "metadata": {},
   "outputs": [
    {
     "data": {
      "text/plain": [
       "(False, True, False)"
      ]
     },
     "execution_count": 73,
     "metadata": {},
     "output_type": "execute_result"
    }
   ],
   "source": [
    "isinstance(sima,Simulation),\\\n",
    "isinstance(simb,Simulation),\\\n",
    "isinstance(simc,Simulation)\n"
   ]
  },
  {
   "cell_type": "markdown",
   "metadata": {},
   "source": [
    "Although SimA is a subclass of Simulation, \n",
    "```isinstance(sima,Simulation)```\n",
    "returns False.\n",
    "\n",
    "Only ```simb``` is identified as an instance, because it implements the correct interface."
   ]
  }
 ],
 "metadata": {
  "kernelspec": {
   "display_name": "Python 3",
   "language": "python",
   "name": "python3"
  },
  "language_info": {
   "codemirror_mode": {
    "name": "ipython",
    "version": 3
   },
   "file_extension": ".py",
   "mimetype": "text/x-python",
   "name": "python",
   "nbconvert_exporter": "python",
   "pygments_lexer": "ipython3",
   "version": "3.6.1"
  }
 },
 "nbformat": 4,
 "nbformat_minor": 2
}
