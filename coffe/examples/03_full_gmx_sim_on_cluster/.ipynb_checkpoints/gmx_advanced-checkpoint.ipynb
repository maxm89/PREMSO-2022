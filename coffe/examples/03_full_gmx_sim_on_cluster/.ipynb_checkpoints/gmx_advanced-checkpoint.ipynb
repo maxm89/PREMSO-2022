{
 "cells": [
  {
   "cell_type": "markdown",
   "metadata": {},
   "source": [
    "# Running Gromacs Simulation Chains on a Compute Cluster\n",
    "\n",
    "This tutorial introduces three high-level concepts that are meant to make your life easier:\n",
    "1. Command chains\n",
    "2. Command chain generators\n",
    "3. Coffe cluster jobs\n",
    "\n",
    "\n"
   ]
  },
  {
   "cell_type": "code",
   "execution_count": null,
   "metadata": {},
   "outputs": [],
   "source": [
    "%reload_ext autoreload"
   ]
  },
  {
   "cell_type": "code",
   "execution_count": null,
   "metadata": {},
   "outputs": [],
   "source": [
    "%autoreload 2"
   ]
  },
  {
   "cell_type": "markdown",
   "metadata": {},
   "source": [
    "## Command Chains \n",
    "\n",
    "In many situations, simulations are not executed individually, but in a larger context.\n",
    "For example, a typical MD simulation requires energy minimization and equilibration runs. These calculations have to be run prior to the actual production run.\n",
    "\n",
    "In this tutorial, we will use a typical chain of individual simulation tasks (the mdp files are found in the present directory).\n",
    "\n",
    "|name | Task | mdp file | \n",
    "|-----|-----|-----------|\n",
    "|emin1 | Energy Minimization (Steepest Descent Method)|em_steep.mdp|\n",
    "|emin2 | Energy Minimization (L-BFGS Method) | em_l-bfgs.mdp\n",
    "|nvt | NVT Equilibration |nvt.mdp|\n",
    "|npt | NPT Equilibration |npt.mdp|\n",
    "|prod | Production Run |md.mdp|\n",
    "\n",
    "\n",
    "In order to facilitate such simulation chains, COFFE allows simulations to be tied together in command chains.\n",
    "A command chain (as implemented in *coffe.core.cmdchain*) is basically a list of calculations, where each calculation is represented by an instance of a callable class, cf. Tutorial 02.\n",
    "\n",
    "The CommandChain itself has a call function that just calls its items one after the other.\n",
    "\n",
    "\n"
   ]
  },
  {
   "cell_type": "markdown",
   "metadata": {},
   "source": [
    "## Command Chain Generators\n",
    "Even simulation chains are often embedded in a broader context. A few typical examples are:\n",
    "- observables are often evaluated at different temperatures or pressures,\n",
    "- free energy perturbation uses multiple simulations, e.g. to alchemically grow a molecule in a box of solvent,\n",
    "- force field parameterization usually requires simulations for different topology files,\n",
    "- many simulation studies require simulations of different systems.\n",
    "\n",
    "Typically, these different simulations share most settings.\n",
    "In order to facilitate setting up many simulations, COFFE implements a high-level command chain generator for coffe simulations.\n",
    "\n",
    "A generator is set up with the shared settings (most importantly mdp files of the individual simulation tasks). \n"
   ]
  },
  {
   "cell_type": "code",
   "execution_count": null,
   "metadata": {},
   "outputs": [],
   "source": [
    "from coffe.gmx import sim, simgen\n",
    "generator = simgen.GmxChainGenerator(\n",
    "    names=[\"emin1\", \"emin2\", \"nvt\", \"npt\", \"prod\"], \n",
    "    mdp_files=[\"em_steep.mdp\",\"em_l-bfgs.mdp\", \"nvt.mdp\", \"npt.mdp\", \"md.mdp\"], \n",
    "    mdp_options=None # can be used to overwrite options in the mdp files\n",
    ")"
   ]
  },
  {
   "cell_type": "markdown",
   "metadata": {},
   "source": [
    "*(Of course, it could also be constructed via a configuration file.)*\n",
    "\n",
    "This generator can now be used to automatically generate simulation chains.\n",
    "Using two boxes (hexadecane and octane),\n"
   ]
  },
  {
   "cell_type": "code",
   "execution_count": null,
   "metadata": {},
   "outputs": [],
   "source": [
    "from coffe.gmx import boxes\n",
    "hexa_gro, hexa_top = boxes.gmx_mkbox_homogeneous(cfg_file=\"boxes.cfg\", section=\"hexa_126\")\n",
    "octa_gro, octa_top = boxes.gmx_mkbox_homogeneous(cfg_file=\"boxes.cfg\", section=\"octa_256\")"
   ]
  },
  {
   "cell_type": "markdown",
   "metadata": {},
   "source": [
    "we can now generate simulation chains for each of these systems:"
   ]
  },
  {
   "cell_type": "code",
   "execution_count": null,
   "metadata": {},
   "outputs": [],
   "source": [
    "hexa_chain_T298 = generator.generate(\"output_hexa\", hexa_gro, hexa_top)\n",
    "octa_chain_T298 = generator.generate(\"output_octa\", octa_gro, octa_top)"
   ]
  },
  {
   "cell_type": "markdown",
   "metadata": {},
   "source": [
    "We could now run these simulation chains locally by calling\n",
    "\n",
    "```\n",
    "hexa_chain_T298()\n",
    "octa_chain_T298()\n",
    "```\n",
    "\n",
    "However, this can take quite long.\n",
    "Usually, we want to run simulations on a cluster.\n",
    "To facilitate cluster submission, coffe has a class *ClusterJob*.\n"
   ]
  },
  {
   "cell_type": "markdown",
   "metadata": {},
   "source": [
    "## Coffe Cluster Jobs\n",
    "\n",
    "Cluster jobs provide an interface for sumitting commands/simulation instances to a cluster. A cluster job is created as follows: "
   ]
  },
  {
   "cell_type": "code",
   "execution_count": null,
   "metadata": {},
   "outputs": [],
   "source": [
    "from coffe.core import cluster\n",
    "\n",
    "queueing=None\n",
    "batch_template=None\n",
    "job_name=\"coffe_job\"\n",
    "work_dir=\"./output_cluster\"\n",
    "job = cluster.ClusterJob(queueing, batch_template, job_name, work_dir)\n"
   ]
  },
  {
   "cell_type": "markdown",
   "metadata": {},
   "source": [
    "On an actual compute cluster, you will need to set queueing to \"torque\" or \"slurm\", depending on which submission system your cluster uses. Moreover, you need to provide a batch template file, i.e. a file that contains only the preamble of a batch script. (By setting both options to ```None```, the job will still run locally.) The commands will be inserted automatically by adding simulation classes to the cluster job:"
   ]
  },
  {
   "cell_type": "code",
   "execution_count": null,
   "metadata": {},
   "outputs": [],
   "source": [
    "job += hexa_chain_T298"
   ]
  },
  {
   "cell_type": "markdown",
   "metadata": {},
   "source": [
    "Each simulation instance that is added to a cluster must have an empty ```__call__``` function.\n",
    "It is also possible to append strings, which will be interpreted as shell commands.\n",
    "This can be helpful, e.g., to run analyses after the actual simulation."
   ]
  },
  {
   "cell_type": "code",
   "execution_count": null,
   "metadata": {},
   "outputs": [],
   "source": [
    "# something trivial\n",
    "job += 'echo \"Hallo\" '"
   ]
  },
  {
   "cell_type": "markdown",
   "metadata": {},
   "source": [
    "To start a job, just call"
   ]
  },
  {
   "cell_type": "code",
   "execution_count": null,
   "metadata": {},
   "outputs": [],
   "source": [
    "# job_id = job.submit()    "
   ]
  },
  {
   "cell_type": "markdown",
   "metadata": {},
   "source": [
    "```job.submit()``` returns a job id, to track your job.\n",
    "\n",
    "Moreover, it provides functionality to check the status of a job or kill a job.\n",
    "```\n",
    "job.get_status() \n",
    "job.kill()\n",
    "```"
   ]
  },
  {
   "cell_type": "markdown",
   "metadata": {},
   "source": [
    "job.get_status() returns one of the following strings:\n",
    "\n",
    "|result | meaning |\n",
    "|--|---|\n",
    "|not written | batch script is not written, yet |\n",
    "|not submitted | job is not submitted, yet|\n",
    "|queueing | job is in queue |\n",
    "|running | job is running |\n",
    "|completed | job is completed  |\n",
    "|error | job failed|\n",
    "\n",
    "\n"
   ]
  },
  {
   "cell_type": "markdown",
   "metadata": {},
   "source": [
    "## Putting It All Together\n",
    "In the above code, the actual submission was commented out, to prevent this notebook from starting expensive calculations.\n",
    "To test the whole workflow on a real cluster, checkout the subdirectory \"workflow\". This subdirectory contains an executable python script \"workflow.py\" and a configuration file \"workflow.cfg\" to run the discussed simulations on a real cluster.\n",
    "\n",
    "Note that you may need to adapt the batch script and queueing system to your cluster configuration."
   ]
  }
 ],
 "metadata": {
  "kernelspec": {
   "display_name": "Python 3",
   "language": "python",
   "name": "python3"
  },
  "language_info": {
   "codemirror_mode": {
    "name": "ipython",
    "version": 3
   },
   "file_extension": ".py",
   "mimetype": "text/x-python",
   "name": "python",
   "nbconvert_exporter": "python",
   "pygments_lexer": "ipython3",
   "version": "3.6.5"
  }
 },
 "nbformat": 4,
 "nbformat_minor": 2
}
